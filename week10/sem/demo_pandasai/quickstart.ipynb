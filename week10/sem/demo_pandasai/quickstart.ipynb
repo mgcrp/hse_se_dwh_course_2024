{
 "cells": [
  {
   "cell_type": "markdown",
   "metadata": {},
   "source": [
    "# PandasAI Quickstart Guide\n",
    "\n",
    "This notebook demonstrates how to get started with PandaAI and how to use it to analyze data through natural language."
   ]
  },
  {
   "cell_type": "markdown",
   "metadata": {},
   "source": [
    "## Set up API Key\n",
    "\n",
    "Set your PandasAI API key for authentication.  \n",
    "You can get your free API key from the data platform ([app.pandabi.ai](https://app.pandabi.ai))"
   ]
  },
  {
   "cell_type": "code",
   "execution_count": 1,
   "metadata": {},
   "outputs": [],
   "source": [
    "import pandasai as pai\n",
    "\n",
    "pai.api_key.set(\"PAI-ff3f6504-b96a-4586-9705-bc703cbff530\")"
   ]
  },
  {
   "cell_type": "markdown",
   "metadata": {},
   "source": [
    "## Read CSV\n",
    "\n",
    "For this example, we will use a small dataset of heart disease patients from [Kaggle](https://www.kaggle.com/datasets/arezaei81/heartcsv)."
   ]
  },
  {
   "cell_type": "code",
   "execution_count": 3,
   "metadata": {},
   "outputs": [],
   "source": [
    "file_df = pai.read_csv(\"./heart.csv\")"
   ]
  },
  {
   "cell_type": "markdown",
   "metadata": {},
   "source": [
    "## Chat with Your Data\n",
    "\n",
    "You can ask questions about your data using natural language"
   ]
  },
  {
   "cell_type": "code",
   "execution_count": 7,
   "metadata": {},
   "outputs": [
    {
     "name": "stdout",
     "output_type": "stream",
     "text": [
      "-0.09528177118121905\n"
     ]
    }
   ],
   "source": [
    "response = file_df.chat(\"What is the correlation between age and cholesterol?\")\n",
    "print(response)"
   ]
  },
  {
   "cell_type": "markdown",
   "metadata": {},
   "source": [
    "## Create Dataset\n",
    "\n",
    "To use PandaAI in combination with our Data Platform, you need to save your dataframes.  \n",
    "The path must be in format 'organization/dataset'. \n",
    "You can create organizations directly within the data platform ([pandabi.ai](https://pandabi.ai))"
   ]
  },
  {
   "cell_type": "code",
   "execution_count": null,
   "metadata": {
    "scrolled": true
   },
   "outputs": [],
   "source": [
    "dataset = pai.create(path=\"pai-personal-406c8/heart\",\n",
    "    # name=\"Heart\",\n",
    "    df = file_df,\n",
    "    description=\"Heart Disease Dataset\")"
   ]
  },
  {
   "cell_type": "markdown",
   "metadata": {},
   "source": [
    "## Turn the dataframe into a shareble link with a built-in chatbot\n",
    "\n",
    "Push the dataframe to the data platform for collaboration.\n",
    "This will turn the dataframe into a chatbot and allow non technical users to interact with your data using natural language."
   ]
  },
  {
   "cell_type": "code",
   "execution_count": 9,
   "metadata": {},
   "outputs": [
    {
     "name": "stdout",
     "output_type": "stream",
     "text": [
      "Dataset loaded successfully.\n",
      "Your dataset was successfully pushed to the remote server!\n",
      "🔗 URL: https://app.pandabi.ai/datasets/pai-personal-406c8/heart\n"
     ]
    }
   ],
   "source": [
    "dataset = pai.load(\"pai-personal-406c8/heart\")\n",
    "\n",
    "dataset.push()"
   ]
  },
  {
   "cell_type": "code",
   "execution_count": null,
   "metadata": {},
   "outputs": [],
   "source": []
  }
 ],
 "metadata": {
  "kernelspec": {
   "display_name": "Python 3 (ipykernel)",
   "language": "python",
   "name": "python3"
  },
  "language_info": {
   "codemirror_mode": {
    "name": "ipython",
    "version": 3
   },
   "file_extension": ".py",
   "mimetype": "text/x-python",
   "name": "python",
   "nbconvert_exporter": "python",
   "pygments_lexer": "ipython3",
   "version": "3.11.5"
  }
 },
 "nbformat": 4,
 "nbformat_minor": 4
}
