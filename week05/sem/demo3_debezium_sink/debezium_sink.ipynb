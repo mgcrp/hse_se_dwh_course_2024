{
 "cells": [
  {
   "cell_type": "code",
   "execution_count": 9,
   "id": "36fc0355-2f84-4d8d-a24d-4597481111f8",
   "metadata": {},
   "outputs": [],
   "source": [
    "DEBEZIUM_URL = 'http://localhost:8083/connectors'\n",
    "\n",
    "pg_connector_config = {\n",
    "  \"name\": \"pg-connector\",\n",
    "  \"config\": {\n",
    "    \"connector.class\": \"io.debezium.connector.postgresql.PostgresConnector\",\n",
    "    \"plugin.name\": \"pgoutput\",\n",
    "    \n",
    "    \"database.hostname\": \"postgres_master\",\n",
    "    \"database.port\": \"5432\",\n",
    "    \"database.user\": \"postgres\",\n",
    "    \"database.password\": \"postgres\",\n",
    "    \"database.dbname\" : \"postgres\",\n",
    "    \"database.server.name\": \"pg-dev\",\n",
    "    \n",
    "    \"table.include.list\": \"public.(.*)\",\n",
    "    \"heartbeat.interval.ms\": \"5000\",\n",
    "    \"slot.name\": \"dbname_debezium\",\n",
    "    \"publication.name\": \"dbname_publication\",\n",
    "      \n",
    "    \"topic.creation.default.cleanup.policy\": \"delete\",\n",
    "    \"topic.creation.default.partitions\": \"1\",\n",
    "    \"topic.creation.default.replication.factor\": \"1\",\n",
    "    \"topic.creation.default.retention.ms\": \"604800000\",\n",
    "    \"topic.creation.enable\": \"true\",\n",
    "    \"topic.prefix\": \"postgres\"\n",
    "  }\n",
    "}\n",
    "\n",
    "sink_connectors_info = {\n",
    "    'postgres.public.categories': 'category_id',\n",
    "    'postgres.public.customers': 'customer_id',\n",
    "    'postgres.public.manufacturers': 'manufacturer_id',\n",
    "    'postgres.public.deliveries': 'delivery_id',\n",
    "    'postgres.public.price_change': 'product_id,price_change_ts',\n",
    "    'postgres.public.products': 'product_id',\n",
    "    'postgres.public.purchase_items': 'product_id,purchase_id',\n",
    "    'postgres.public.purchases': 'purchase_id',\n",
    "    'postgres.public.stores': 'store_id'\n",
    "}"
   ]
  },
  {
   "cell_type": "code",
   "execution_count": 11,
   "id": "fdfe6a8f-219d-427c-b136-680b41c85043",
   "metadata": {},
   "outputs": [],
   "source": [
    "import requests\n",
    "from typing import Dict, Any\n",
    "\n",
    "\n",
    "def add_connector(connector_dict: Dict[str, Any]) -> None:\n",
    "    response = requests.post(\n",
    "        DEBEZIUM_URL, \n",
    "        json=connector_dict\n",
    "    )\n",
    "    assert response.status_code < 400, response.text\n",
    "\n",
    "\n",
    "def add_pg_connector() -> None:\n",
    "    add_connector(pg_connector_config)\n",
    "\n",
    "\n",
    "def add_sink_connectors() -> None:\n",
    "    for topic, record_keys in sink_connectors_info.items():\n",
    "        add_connector(\n",
    "            {\n",
    "            \"name\": topic.replace('.', '-'),\n",
    "            \"config\": {\n",
    "                \"connector.class\": \"io.debezium.connector.jdbc.JdbcSinkConnector\",\n",
    "                \"topics\": topic,\n",
    "                \"connection.url\": \"jdbc:postgresql://postgres_dwh:5432/postgres\",\n",
    "                \"connection.username\": \"postgres\",\n",
    "                \"connection.password\": \"postgres\",\n",
    "                \"tasks.max\":\"1\",\n",
    "                \"insert.mode\": \"upsert\",\n",
    "                \"delete.enabled\": \"false\",\n",
    "                \"primary.key.mode\": \"record_key\",\n",
    "                \"primary.key.fields\": record_keys,\n",
    "                \"schema.evolution\": \"basic\"\n",
    "                }\n",
    "            }\n",
    "        )"
   ]
  },
  {
   "cell_type": "code",
   "execution_count": 13,
   "id": "28353a92-f7d3-455b-a606-b9176104a3b4",
   "metadata": {},
   "outputs": [],
   "source": [
    "add_pg_connector()"
   ]
  },
  {
   "cell_type": "code",
   "execution_count": 15,
   "id": "d69e3b9d-560e-46f7-b85c-29fb7f883fa4",
   "metadata": {},
   "outputs": [],
   "source": [
    "add_sink_connectors()"
   ]
  },
  {
   "cell_type": "code",
   "execution_count": null,
   "id": "a2389007-73b7-4805-9e80-1d396ab4a67e",
   "metadata": {},
   "outputs": [],
   "source": []
  }
 ],
 "metadata": {
  "kernelspec": {
   "display_name": "Python 3 (ipykernel)",
   "language": "python",
   "name": "python3"
  },
  "language_info": {
   "codemirror_mode": {
    "name": "ipython",
    "version": 3
   },
   "file_extension": ".py",
   "mimetype": "text/x-python",
   "name": "python",
   "nbconvert_exporter": "python",
   "pygments_lexer": "ipython3",
   "version": "3.11.5"
  }
 },
 "nbformat": 4,
 "nbformat_minor": 5
}
