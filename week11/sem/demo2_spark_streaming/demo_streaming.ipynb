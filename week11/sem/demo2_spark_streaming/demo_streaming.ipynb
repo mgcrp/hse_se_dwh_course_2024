{
 "cells": [
  {
   "cell_type": "code",
   "execution_count": 1,
   "id": "03a3e436",
   "metadata": {},
   "outputs": [
    {
     "name": "stdout",
     "output_type": "stream",
     "text": [
      "Requirement already satisfied: pyspark in /Users/popov-ilya/anaconda3/lib/python3.11/site-packages (3.5.0)\n",
      "Requirement already satisfied: py4j==0.10.9.7 in /Users/popov-ilya/anaconda3/lib/python3.11/site-packages (from pyspark) (0.10.9.7)\n"
     ]
    }
   ],
   "source": [
    "!pip install pyspark"
   ]
  },
  {
   "cell_type": "code",
   "execution_count": 1,
   "id": "9ac749f4",
   "metadata": {},
   "outputs": [],
   "source": [
    "import logging\n",
    "from json import dumps\n",
    "from random import uniform\n",
    "from time import sleep\n",
    "\n",
    "from kafka import KafkaProducer\n",
    "\n",
    "logging.basicConfig(level=logging.INFO, format=\" %(levelname)s %(asctime)s: %(message)s\")\n",
    "log = logging.getLogger(__name__)"
   ]
  },
  {
   "cell_type": "code",
   "execution_count": 3,
   "id": "6b8d2bd2",
   "metadata": {},
   "outputs": [
    {
     "name": "stdout",
     "output_type": "stream",
     "text": [
      "curl: (52) Empty reply from server\n"
     ]
    }
   ],
   "source": [
    "!curl http://localhost:9092/v3/clusters"
   ]
  },
  {
   "cell_type": "code",
   "execution_count": null,
   "id": "80f9777b",
   "metadata": {},
   "outputs": [],
   "source": [
    "!curl https://raw.githubusercontent.com/f0xtek/covidcab/master/yellow_tripdata_2020-04.csv -o yellow_tripdata_2020-04.csv"
   ]
  },
  {
   "cell_type": "code",
   "execution_count": 5,
   "id": "28ffed7c",
   "metadata": {},
   "outputs": [],
   "source": [
    "from tqdm import tqdm\n",
    "\n",
    "def produce(csv_file: str, bootstrap_servers: str, topic: str):\n",
    "    producer = KafkaProducer(\n",
    "        security_protocol=\"PLAINTEXT\",\n",
    "        bootstrap_servers=[bootstrap_servers],\n",
    "        value_serializer=lambda x: dumps(x).encode('utf-8'),\n",
    "        acks=\"all\",\n",
    "        retries = 3\n",
    "    )\n",
    "    \n",
    "    pbar = tqdm(total=52750)\n",
    "\n",
    "    # открываем файл на чтение\n",
    "    with open(csv_file, 'r') as data_file:\n",
    "        # пропускаем заголовок\n",
    "        header = data_file.readline()\n",
    "        log.info(f'Header is [{header}]') \n",
    "        count = 0\n",
    "        \n",
    "        while True:\n",
    "#             sleep(uniform(0.9, 0.9))\n",
    "            sleep(uniform(0.01, 0.1)) # эмулируем интервал\n",
    "#             sleep(uniform(0.0001, 0.0005))\n",
    "            line = data_file.readline().strip()\n",
    "\n",
    "            if not line:\n",
    "                log.info(\"File ended\")\n",
    "                break\n",
    "\n",
    "            count += 1\n",
    "            fields = line.split(',') \n",
    "\n",
    "            data = {\n",
    "                'vendor_id': int(fields[0]),\n",
    "                'tpep_pickup_datetime': fields[1],\n",
    "                'tpep_dropoff_datetime': fields[2],\n",
    "                'passenger_count': int(fields[3]),\n",
    "                'trip_distance': float(fields[4]),\n",
    "                'ratecode_id': int(fields[5]),\n",
    "                'store_and_fwd_flag': fields[6],\n",
    "                'pulocation_id': int(fields[7]),\n",
    "                'dolocation_id': int(fields[8]),\n",
    "                'payment_type': int(fields[9]),\n",
    "                'fare_amount': float(fields[10]),\n",
    "                'extra': float(fields[11]),\n",
    "                'mta_tax': float(fields[12]),\n",
    "                'tip_amount': float(fields[13]),\n",
    "                'tolls_amount': float(fields[14]),\n",
    "                'improvement_surcharge': float(fields[15]),\n",
    "                'total_amount': float(fields[16]),\n",
    "                'congestion_surcharge': float(fields[17]),\n",
    "            }\n",
    "\n",
    "            producer.send(topic=topic, value=data)\n",
    "            pbar.update(1)\n",
    "#             log.debug(\"Line {}: {}\".format(count, line.strip()))\n",
    "#             log.info(f\"Line {count} sent\")"
   ]
  },
  {
   "cell_type": "code",
   "execution_count": null,
   "id": "326c4bce",
   "metadata": {},
   "outputs": [
    {
     "name": "stderr",
     "output_type": "stream",
     "text": [
      " INFO 2025-02-22 10:35:24,041: <BrokerConnection node_id=bootstrap-0 host=localhost:9092 <connecting> [IPv6 ('::1', 9092, 0, 0)]>: connecting to localhost:9092 [('::1', 9092, 0, 0) IPv6]\n",
      " INFO 2025-02-22 10:35:24,042: Probing node bootstrap-0 broker version\n",
      " INFO 2025-02-22 10:35:24,061: <BrokerConnection node_id=bootstrap-0 host=localhost:9092 <connecting> [IPv6 ('::1', 9092, 0, 0)]>: Connection complete.\n",
      " INFO 2025-02-22 10:35:24,176: Broker version identified as 2.5.0\n",
      " INFO 2025-02-22 10:35:24,176: Set configuration api_version=(2, 5, 0) to skip auto check_version requests on startup\n",
      "  0%|                                                 | 0/52750 [00:00<?, ?it/s] INFO 2025-02-22 10:35:24,218: Header is [VendorID,tpep_pickup_datetime,tpep_dropoff_datetime,passenger_count,trip_distance,RatecodeID,store_and_fwd_flag,PULocationID,DOLocationID,payment_type,fare_amount,extra,mta_tax,tip_amount,tolls_amount,improvement_surcharge,total_amount,congestion_surcharge\n",
      "]\n",
      " INFO 2025-02-22 10:35:24,346: <BrokerConnection node_id=1001 host=localhost:9092 <connecting> [IPv6 ('::1', 9092, 0, 0)]>: connecting to localhost:9092 [('::1', 9092, 0, 0) IPv6]\n",
      " INFO 2025-02-22 10:35:24,348: <BrokerConnection node_id=1001 host=localhost:9092 <connecting> [IPv6 ('::1', 9092, 0, 0)]>: Connection complete.\n",
      " INFO 2025-02-22 10:35:24,350: <BrokerConnection node_id=bootstrap-0 host=localhost:9092 <connected> [IPv6 ('::1', 9092, 0, 0)]>: Closing connection. \n",
      " 23%|████████▋                            | 12315/52750 [12:22<46:00, 14.65it/s]"
     ]
    }
   ],
   "source": [
    "BOOTSTRAP_SERVERS = 'localhost:9092'\n",
    "TOPIC_NAME = 'taxi'\n",
    "DATA_FILE = 'yellow_tripdata_2020-04.csv'\n",
    "\n",
    "produce(DATA_FILE, BOOTSTRAP_SERVERS, TOPIC_NAME)"
   ]
  },
  {
   "cell_type": "code",
   "execution_count": null,
   "id": "94722ecc",
   "metadata": {},
   "outputs": [],
   "source": []
  }
 ],
 "metadata": {
  "kernelspec": {
   "display_name": "Python 3 (ipykernel)",
   "language": "python",
   "name": "python3"
  },
  "language_info": {
   "codemirror_mode": {
    "name": "ipython",
    "version": 3
   },
   "file_extension": ".py",
   "mimetype": "text/x-python",
   "name": "python",
   "nbconvert_exporter": "python",
   "pygments_lexer": "ipython3",
   "version": "3.11.5"
  }
 },
 "nbformat": 4,
 "nbformat_minor": 5
}
