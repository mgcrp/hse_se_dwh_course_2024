{
  "nbformat": 4,
  "nbformat_minor": 0,
  "metadata": {
    "colab": {
      "provenance": []
    },
    "kernelspec": {
      "name": "python3",
      "display_name": "Python 3"
    },
    "language_info": {
      "name": "python"
    }
  },
  "cells": [
    {
      "cell_type": "code",
      "source": [
        "xml = '''\n",
        "<?xml version=\"1.0\"?>\n",
        "<Catalog>\n",
        "    <Book id=\"bk101\">\n",
        "        <Author>Garghentini, Davide</Author>\n",
        "        <Title>XML Developer's Guide</Title>\n",
        "        <Genre>Computer</Genre>\n",
        "        <Price>44.95</Price>\n",
        "        <PublishDate>2000-10-01</PublishDate>\n",
        "        <Description> An in-depth look at creating applications with XML. </Description>\n",
        "    </Book>\n",
        "    <Book id=\"bk102\">\n",
        "        <Author>Garcia, Debra</Author>\n",
        "        <Title>Midnight Rain</Title>\n",
        "        <Genre>Fantasy</Genre>\n",
        "        <Price>5.95</Price>\n",
        "        <PublishDate>2000-12-16</PublishDate>\n",
        "        <Description> A former architect battles corporate zombies, an evil sorceress, and her own childhood to become queen of the world. </Description>\n",
        "    </Book>\n",
        "</Catalog>\n",
        "'''\n",
        "\n",
        "with open('book.xml', 'w') as f:\n",
        "    f.write(xml)"
      ],
      "metadata": {
        "id": "nGvZtzRpPiE0"
      },
      "execution_count": null,
      "outputs": []
    },
    {
      "cell_type": "code",
      "source": [
        "!pip install pyspark"
      ],
      "metadata": {
        "id": "siNbmHnjQvq3",
        "outputId": "4b300ad5-ee1d-4d86-b572-260b6af57b4f",
        "colab": {
          "base_uri": "https://localhost:8080/"
        }
      },
      "execution_count": null,
      "outputs": [
        {
          "output_type": "stream",
          "name": "stdout",
          "text": [
            "Collecting pyspark\n",
            "  Downloading pyspark-3.5.3.tar.gz (317.3 MB)\n",
            "\u001b[2K     \u001b[90m━━━━━━━━━━━━━━━━━━━━━━━━━━━━━━━━━━━━━━━━\u001b[0m \u001b[32m317.3/317.3 MB\u001b[0m \u001b[31m3.5 MB/s\u001b[0m eta \u001b[36m0:00:00\u001b[0m\n",
            "\u001b[?25h  Preparing metadata (setup.py) ... \u001b[?25l\u001b[?25hdone\n",
            "Requirement already satisfied: py4j==0.10.9.7 in /usr/local/lib/python3.10/dist-packages (from pyspark) (0.10.9.7)\n",
            "Building wheels for collected packages: pyspark\n",
            "  Building wheel for pyspark (setup.py) ... \u001b[?25l\u001b[?25hdone\n",
            "  Created wheel for pyspark: filename=pyspark-3.5.3-py2.py3-none-any.whl size=317840625 sha256=be495020d243ed322d111ade55c8c5fd4cd170c56cf68414e9b3c1c74ec96bc9\n",
            "  Stored in directory: /root/.cache/pip/wheels/1b/3a/92/28b93e2fbfdbb07509ca4d6f50c5e407f48dce4ddbda69a4ab\n",
            "Successfully built pyspark\n",
            "Installing collected packages: pyspark\n",
            "Successfully installed pyspark-3.5.3\n"
          ]
        }
      ]
    },
    {
      "cell_type": "code",
      "source": [
        "from pyspark.sql import SparkSession\n",
        "\n",
        "spark = SparkSession \\\n",
        "    .builder \\\n",
        "    .appName(\"Test\") \\\n",
        "    .config(\"spark.jars.packages\", \"com.databricks:spark-xml_2.12:0.13.0\") \\\n",
        "    .getOrCreate()\n",
        "\n",
        "df = spark.read \\\n",
        "    .format('xml') \\\n",
        "    .options(RootTag='Catalog', rowTag='Book') \\\n",
        "    .load('book.xml')\n",
        "\n",
        "df.printSchema()"
      ],
      "metadata": {
        "id": "RQjkRIaxQPcP",
        "outputId": "fee35ee1-399f-4f7b-9f7b-43509b8847dc",
        "colab": {
          "base_uri": "https://localhost:8080/"
        }
      },
      "execution_count": null,
      "outputs": [
        {
          "output_type": "stream",
          "name": "stdout",
          "text": [
            "root\n",
            " |-- Author: string (nullable = true)\n",
            " |-- Description: string (nullable = true)\n",
            " |-- Genre: string (nullable = true)\n",
            " |-- Price: double (nullable = true)\n",
            " |-- PublishDate: date (nullable = true)\n",
            " |-- Title: string (nullable = true)\n",
            " |-- _id: string (nullable = true)\n",
            "\n"
          ]
        }
      ]
    },
    {
      "cell_type": "code",
      "source": [
        "import pyspark.sql.functions as f\n",
        "\n",
        "spark.read \\\n",
        "    .format('xml') \\\n",
        "    .options(RootTag='Catalog', rowTag='Book') \\\n",
        "    .load('book.xml') \\\n",
        "    .withColumn('price', f.col(\"price\").cast(\"double\")) \\\n",
        "    .agg(f.max('price')) \\\n",
        "    .show()"
      ],
      "metadata": {
        "id": "r8jDz8vQVOtm",
        "outputId": "9ed3b276-2415-4f02-dd49-21df24c6f8e1",
        "colab": {
          "base_uri": "https://localhost:8080/"
        }
      },
      "execution_count": null,
      "outputs": [
        {
          "output_type": "stream",
          "name": "stdout",
          "text": [
            "+----------+\n",
            "|max(price)|\n",
            "+----------+\n",
            "|     44.95|\n",
            "+----------+\n",
            "\n"
          ]
        }
      ]
    },
    {
      "cell_type": "markdown",
      "source": [
        "# Apache Avro"
      ],
      "metadata": {
        "id": "FygM9WSSu3mz"
      }
    },
    {
      "cell_type": "code",
      "source": [
        "!pip install avro-python3"
      ],
      "metadata": {
        "colab": {
          "base_uri": "https://localhost:8080/"
        },
        "id": "sTtHmKnpuWYe",
        "outputId": "442d351b-f36c-47b2-a00c-21334da6040d"
      },
      "execution_count": null,
      "outputs": [
        {
          "output_type": "stream",
          "name": "stdout",
          "text": [
            "Collecting avro-python3\n",
            "  Downloading avro-python3-1.10.2.tar.gz (38 kB)\n",
            "  Preparing metadata (setup.py) ... \u001b[?25l\u001b[?25hdone\n",
            "Building wheels for collected packages: avro-python3\n",
            "  Building wheel for avro-python3 (setup.py) ... \u001b[?25l\u001b[?25hdone\n",
            "  Created wheel for avro-python3: filename=avro_python3-1.10.2-py3-none-any.whl size=43994 sha256=dfc470e71879e1acb29fa3dc3a20e03cbc058b96edc1c02eb6b7fcea85bbb416\n",
            "  Stored in directory: /root/.cache/pip/wheels/bc/85/62/6cdd81c56f923946b401cecff38055b94c9b766927f7d8ca82\n",
            "Successfully built avro-python3\n",
            "Installing collected packages: avro-python3\n",
            "Successfully installed avro-python3-1.10.2\n"
          ]
        }
      ]
    },
    {
      "cell_type": "code",
      "source": [
        "import copy\n",
        "import json\n",
        "import avro\n",
        "from avro.io import DatumWriter, DatumReader\n",
        "from avro.datafile import DataFileWriter, DataFileReader"
      ],
      "metadata": {
        "id": "WHiQxveSuhyd"
      },
      "execution_count": null,
      "outputs": []
    },
    {
      "cell_type": "code",
      "execution_count": null,
      "metadata": {
        "colab": {
          "base_uri": "https://localhost:8080/",
          "height": 55
        },
        "id": "ZiuGBwwAuNLD",
        "outputId": "bfe2f9e0-8582-44c1-e864-d4b3ce4bd1a3"
      },
      "outputs": [
        {
          "output_type": "execute_result",
          "data": {
            "text/plain": [
              "'{\"type\": \"record\", \"name\": \"User\", \"namespace\": \"avro.example\", \"fields\": [{\"type\": \"string\", \"name\": \"name\"}, {\"type\": \"int\", \"name\": \"age\"}]}'"
            ],
            "application/vnd.google.colaboratory.intrinsic+json": {
              "type": "string"
            }
          },
          "metadata": {},
          "execution_count": 8
        }
      ],
      "source": [
        "schema = {\n",
        "    'name': 'avro.example.User',\n",
        "    'type': 'record',\n",
        "    'fields': [\n",
        "        {'name': 'name', 'type': 'string'},\n",
        "        {'name': 'age', 'type': 'int'}\n",
        "    ]\n",
        "}\n",
        "\n",
        "schema_parsed = avro.schema.Parse(json.dumps(schema))\n",
        "schema_parsed.__str__()"
      ]
    },
    {
      "cell_type": "code",
      "source": [
        "with open('users.avro', 'wb') as f:\n",
        "    writer = DataFileWriter(f, DatumWriter(), schema_parsed)\n",
        "    writer.append({'name': 'Pierre-Simon Laplace', 'age': 77})\n",
        "    writer.append({'name': 'John von Neumann', 'age': 53})\n",
        "    writer.close()\n"
      ],
      "metadata": {
        "id": "UMOsMiVjuq70"
      },
      "execution_count": null,
      "outputs": []
    },
    {
      "cell_type": "code",
      "source": [
        "with open('users.avro', 'rb') as f:\n",
        "    reader = DataFileReader(f, DatumReader())\n",
        "    metadata = copy.deepcopy(reader.meta)\n",
        "    schema_from_file = json.loads(metadata['avro.schema'])\n",
        "    users = [user for user in reader]\n",
        "    reader.close()\n",
        "\n",
        "print(f'Schema that we specified:\\n {schema}')\n",
        "print(f'Schema that we parsed:\\n {schema_parsed}')\n",
        "print(f'Schema from users.avro file:\\n {schema_from_file}')\n",
        "print(f'Users:\\n {users}')"
      ],
      "metadata": {
        "colab": {
          "base_uri": "https://localhost:8080/",
          "height": 376
        },
        "id": "y8QxzmfPu8sT",
        "outputId": "bd224c3a-4680-4d23-bf9a-19c6e53a8ffe"
      },
      "execution_count": null,
      "outputs": [
        {
          "output_type": "error",
          "ename": "AssertionError",
          "evalue": "-2600952",
          "traceback": [
            "\u001b[0;31m---------------------------------------------------------------------------\u001b[0m",
            "\u001b[0;31mAssertionError\u001b[0m                            Traceback (most recent call last)",
            "\u001b[0;32m<ipython-input-11-1d54ef0475cd>\u001b[0m in \u001b[0;36m<cell line: 1>\u001b[0;34m()\u001b[0m\n\u001b[1;32m      1\u001b[0m \u001b[0;32mwith\u001b[0m \u001b[0mopen\u001b[0m\u001b[0;34m(\u001b[0m\u001b[0;34m'users.avro'\u001b[0m\u001b[0;34m,\u001b[0m \u001b[0;34m'rb'\u001b[0m\u001b[0;34m)\u001b[0m \u001b[0;32mas\u001b[0m \u001b[0mf\u001b[0m\u001b[0;34m:\u001b[0m\u001b[0;34m\u001b[0m\u001b[0;34m\u001b[0m\u001b[0m\n\u001b[0;32m----> 2\u001b[0;31m     \u001b[0mreader\u001b[0m \u001b[0;34m=\u001b[0m \u001b[0mDataFileReader\u001b[0m\u001b[0;34m(\u001b[0m\u001b[0mf\u001b[0m\u001b[0;34m,\u001b[0m \u001b[0mDatumReader\u001b[0m\u001b[0;34m(\u001b[0m\u001b[0;34m)\u001b[0m\u001b[0;34m)\u001b[0m\u001b[0;34m\u001b[0m\u001b[0;34m\u001b[0m\u001b[0m\n\u001b[0m\u001b[1;32m      3\u001b[0m     \u001b[0mmetadata\u001b[0m \u001b[0;34m=\u001b[0m \u001b[0mcopy\u001b[0m\u001b[0;34m.\u001b[0m\u001b[0mdeepcopy\u001b[0m\u001b[0;34m(\u001b[0m\u001b[0mreader\u001b[0m\u001b[0;34m.\u001b[0m\u001b[0mmeta\u001b[0m\u001b[0;34m)\u001b[0m\u001b[0;34m\u001b[0m\u001b[0;34m\u001b[0m\u001b[0m\n\u001b[1;32m      4\u001b[0m     \u001b[0mschema_from_file\u001b[0m \u001b[0;34m=\u001b[0m \u001b[0mjson\u001b[0m\u001b[0;34m.\u001b[0m\u001b[0mloads\u001b[0m\u001b[0;34m(\u001b[0m\u001b[0mmetadata\u001b[0m\u001b[0;34m[\u001b[0m\u001b[0;34m'avro.schema'\u001b[0m\u001b[0;34m]\u001b[0m\u001b[0;34m)\u001b[0m\u001b[0;34m\u001b[0m\u001b[0;34m\u001b[0m\u001b[0m\n\u001b[1;32m      5\u001b[0m     \u001b[0musers\u001b[0m \u001b[0;34m=\u001b[0m \u001b[0;34m[\u001b[0m\u001b[0muser\u001b[0m \u001b[0;32mfor\u001b[0m \u001b[0muser\u001b[0m \u001b[0;32min\u001b[0m \u001b[0mreader\u001b[0m\u001b[0;34m]\u001b[0m\u001b[0;34m\u001b[0m\u001b[0;34m\u001b[0m\u001b[0m\n",
            "\u001b[0;32m/usr/local/lib/python3.10/dist-packages/avro/datafile.py\u001b[0m in \u001b[0;36m__init__\u001b[0;34m(self, reader, datum_reader)\u001b[0m\n\u001b[1;32m    375\u001b[0m \u001b[0;34m\u001b[0m\u001b[0m\n\u001b[1;32m    376\u001b[0m     \u001b[0;31m# read the header: magic, meta, sync\u001b[0m\u001b[0;34m\u001b[0m\u001b[0;34m\u001b[0m\u001b[0m\n\u001b[0;32m--> 377\u001b[0;31m     \u001b[0mself\u001b[0m\u001b[0;34m.\u001b[0m\u001b[0m_read_header\u001b[0m\u001b[0;34m(\u001b[0m\u001b[0;34m)\u001b[0m\u001b[0;34m\u001b[0m\u001b[0;34m\u001b[0m\u001b[0m\n\u001b[0m\u001b[1;32m    378\u001b[0m \u001b[0;34m\u001b[0m\u001b[0m\n\u001b[1;32m    379\u001b[0m     \u001b[0;31m# ensure codec is valid\u001b[0m\u001b[0;34m\u001b[0m\u001b[0;34m\u001b[0m\u001b[0m\n",
            "\u001b[0;32m/usr/local/lib/python3.10/dist-packages/avro/datafile.py\u001b[0m in \u001b[0;36m_read_header\u001b[0;34m(self)\u001b[0m\n\u001b[1;32m    482\u001b[0m \u001b[0;34m\u001b[0m\u001b[0m\n\u001b[1;32m    483\u001b[0m     \u001b[0;31m# read header into a dict\u001b[0m\u001b[0;34m\u001b[0m\u001b[0;34m\u001b[0m\u001b[0m\n\u001b[0;32m--> 484\u001b[0;31m     header = self.datum_reader.read_data(\n\u001b[0m\u001b[1;32m    485\u001b[0m       META_SCHEMA, META_SCHEMA, self.raw_decoder)\n\u001b[1;32m    486\u001b[0m \u001b[0;34m\u001b[0m\u001b[0m\n",
            "\u001b[0;32m/usr/local/lib/python3.10/dist-packages/avro/io.py\u001b[0m in \u001b[0;36mread_data\u001b[0;34m(self, writer_schema, reader_schema, decoder)\u001b[0m\n\u001b[1;32m    486\u001b[0m       \u001b[0;32mreturn\u001b[0m \u001b[0mself\u001b[0m\u001b[0;34m.\u001b[0m\u001b[0mread_union\u001b[0m\u001b[0;34m(\u001b[0m\u001b[0mwriter_schema\u001b[0m\u001b[0;34m,\u001b[0m \u001b[0mreader_schema\u001b[0m\u001b[0;34m,\u001b[0m \u001b[0mdecoder\u001b[0m\u001b[0;34m)\u001b[0m\u001b[0;34m\u001b[0m\u001b[0;34m\u001b[0m\u001b[0m\n\u001b[1;32m    487\u001b[0m     \u001b[0;32melif\u001b[0m \u001b[0mwriter_schema\u001b[0m\u001b[0;34m.\u001b[0m\u001b[0mtype\u001b[0m \u001b[0;32min\u001b[0m \u001b[0;34m[\u001b[0m\u001b[0;34m'record'\u001b[0m\u001b[0;34m,\u001b[0m \u001b[0;34m'error'\u001b[0m\u001b[0;34m,\u001b[0m \u001b[0;34m'request'\u001b[0m\u001b[0;34m]\u001b[0m\u001b[0;34m:\u001b[0m\u001b[0;34m\u001b[0m\u001b[0;34m\u001b[0m\u001b[0m\n\u001b[0;32m--> 488\u001b[0;31m       \u001b[0;32mreturn\u001b[0m \u001b[0mself\u001b[0m\u001b[0;34m.\u001b[0m\u001b[0mread_record\u001b[0m\u001b[0;34m(\u001b[0m\u001b[0mwriter_schema\u001b[0m\u001b[0;34m,\u001b[0m \u001b[0mreader_schema\u001b[0m\u001b[0;34m,\u001b[0m \u001b[0mdecoder\u001b[0m\u001b[0;34m)\u001b[0m\u001b[0;34m\u001b[0m\u001b[0;34m\u001b[0m\u001b[0m\n\u001b[0m\u001b[1;32m    489\u001b[0m     \u001b[0;32melse\u001b[0m\u001b[0;34m:\u001b[0m\u001b[0;34m\u001b[0m\u001b[0;34m\u001b[0m\u001b[0m\n\u001b[1;32m    490\u001b[0m       \u001b[0mfail_msg\u001b[0m \u001b[0;34m=\u001b[0m \u001b[0;34m\"Cannot read unknown schema type: %s\"\u001b[0m \u001b[0;34m%\u001b[0m \u001b[0mwriter_schema\u001b[0m\u001b[0;34m.\u001b[0m\u001b[0mtype\u001b[0m\u001b[0;34m\u001b[0m\u001b[0;34m\u001b[0m\u001b[0m\n",
            "\u001b[0;32m/usr/local/lib/python3.10/dist-packages/avro/io.py\u001b[0m in \u001b[0;36mread_record\u001b[0;34m(self, writer_schema, reader_schema, decoder)\u001b[0m\n\u001b[1;32m    686\u001b[0m       \u001b[0mreaders_field\u001b[0m \u001b[0;34m=\u001b[0m \u001b[0mreaders_fields_dict\u001b[0m\u001b[0;34m.\u001b[0m\u001b[0mget\u001b[0m\u001b[0;34m(\u001b[0m\u001b[0mfield\u001b[0m\u001b[0;34m.\u001b[0m\u001b[0mname\u001b[0m\u001b[0;34m)\u001b[0m\u001b[0;34m\u001b[0m\u001b[0;34m\u001b[0m\u001b[0m\n\u001b[1;32m    687\u001b[0m       \u001b[0;32mif\u001b[0m \u001b[0mreaders_field\u001b[0m \u001b[0;32mis\u001b[0m \u001b[0;32mnot\u001b[0m \u001b[0;32mNone\u001b[0m\u001b[0;34m:\u001b[0m\u001b[0;34m\u001b[0m\u001b[0;34m\u001b[0m\u001b[0m\n\u001b[0;32m--> 688\u001b[0;31m         \u001b[0mfield_val\u001b[0m \u001b[0;34m=\u001b[0m \u001b[0mself\u001b[0m\u001b[0;34m.\u001b[0m\u001b[0mread_data\u001b[0m\u001b[0;34m(\u001b[0m\u001b[0mfield\u001b[0m\u001b[0;34m.\u001b[0m\u001b[0mtype\u001b[0m\u001b[0;34m,\u001b[0m \u001b[0mreaders_field\u001b[0m\u001b[0;34m.\u001b[0m\u001b[0mtype\u001b[0m\u001b[0;34m,\u001b[0m \u001b[0mdecoder\u001b[0m\u001b[0;34m)\u001b[0m\u001b[0;34m\u001b[0m\u001b[0;34m\u001b[0m\u001b[0m\n\u001b[0m\u001b[1;32m    689\u001b[0m         \u001b[0mread_record\u001b[0m\u001b[0;34m[\u001b[0m\u001b[0mfield\u001b[0m\u001b[0;34m.\u001b[0m\u001b[0mname\u001b[0m\u001b[0;34m]\u001b[0m \u001b[0;34m=\u001b[0m \u001b[0mfield_val\u001b[0m\u001b[0;34m\u001b[0m\u001b[0;34m\u001b[0m\u001b[0m\n\u001b[1;32m    690\u001b[0m       \u001b[0;32melse\u001b[0m\u001b[0;34m:\u001b[0m\u001b[0;34m\u001b[0m\u001b[0;34m\u001b[0m\u001b[0m\n",
            "\u001b[0;32m/usr/local/lib/python3.10/dist-packages/avro/io.py\u001b[0m in \u001b[0;36mread_data\u001b[0;34m(self, writer_schema, reader_schema, decoder)\u001b[0m\n\u001b[1;32m    482\u001b[0m       \u001b[0;32mreturn\u001b[0m \u001b[0mself\u001b[0m\u001b[0;34m.\u001b[0m\u001b[0mread_array\u001b[0m\u001b[0;34m(\u001b[0m\u001b[0mwriter_schema\u001b[0m\u001b[0;34m,\u001b[0m \u001b[0mreader_schema\u001b[0m\u001b[0;34m,\u001b[0m \u001b[0mdecoder\u001b[0m\u001b[0;34m)\u001b[0m\u001b[0;34m\u001b[0m\u001b[0;34m\u001b[0m\u001b[0m\n\u001b[1;32m    483\u001b[0m     \u001b[0;32melif\u001b[0m \u001b[0mwriter_schema\u001b[0m\u001b[0;34m.\u001b[0m\u001b[0mtype\u001b[0m \u001b[0;34m==\u001b[0m \u001b[0;34m'map'\u001b[0m\u001b[0;34m:\u001b[0m\u001b[0;34m\u001b[0m\u001b[0;34m\u001b[0m\u001b[0m\n\u001b[0;32m--> 484\u001b[0;31m       \u001b[0;32mreturn\u001b[0m \u001b[0mself\u001b[0m\u001b[0;34m.\u001b[0m\u001b[0mread_map\u001b[0m\u001b[0;34m(\u001b[0m\u001b[0mwriter_schema\u001b[0m\u001b[0;34m,\u001b[0m \u001b[0mreader_schema\u001b[0m\u001b[0;34m,\u001b[0m \u001b[0mdecoder\u001b[0m\u001b[0;34m)\u001b[0m\u001b[0;34m\u001b[0m\u001b[0;34m\u001b[0m\u001b[0m\n\u001b[0m\u001b[1;32m    485\u001b[0m     \u001b[0;32melif\u001b[0m \u001b[0mwriter_schema\u001b[0m\u001b[0;34m.\u001b[0m\u001b[0mtype\u001b[0m \u001b[0;32min\u001b[0m \u001b[0;34m[\u001b[0m\u001b[0;34m'union'\u001b[0m\u001b[0;34m,\u001b[0m \u001b[0;34m'error_union'\u001b[0m\u001b[0;34m]\u001b[0m\u001b[0;34m:\u001b[0m\u001b[0;34m\u001b[0m\u001b[0;34m\u001b[0m\u001b[0m\n\u001b[1;32m    486\u001b[0m       \u001b[0;32mreturn\u001b[0m \u001b[0mself\u001b[0m\u001b[0;34m.\u001b[0m\u001b[0mread_union\u001b[0m\u001b[0;34m(\u001b[0m\u001b[0mwriter_schema\u001b[0m\u001b[0;34m,\u001b[0m \u001b[0mreader_schema\u001b[0m\u001b[0;34m,\u001b[0m \u001b[0mdecoder\u001b[0m\u001b[0;34m)\u001b[0m\u001b[0;34m\u001b[0m\u001b[0;34m\u001b[0m\u001b[0m\n",
            "\u001b[0;32m/usr/local/lib/python3.10/dist-packages/avro/io.py\u001b[0m in \u001b[0;36mread_map\u001b[0;34m(self, writer_schema, reader_schema, decoder)\u001b[0m\n\u001b[1;32m    618\u001b[0m       \u001b[0;32mfor\u001b[0m \u001b[0mi\u001b[0m \u001b[0;32min\u001b[0m \u001b[0mrange\u001b[0m\u001b[0;34m(\u001b[0m\u001b[0mblock_count\u001b[0m\u001b[0;34m)\u001b[0m\u001b[0;34m:\u001b[0m\u001b[0;34m\u001b[0m\u001b[0;34m\u001b[0m\u001b[0m\n\u001b[1;32m    619\u001b[0m         \u001b[0mkey\u001b[0m \u001b[0;34m=\u001b[0m \u001b[0mdecoder\u001b[0m\u001b[0;34m.\u001b[0m\u001b[0mread_utf8\u001b[0m\u001b[0;34m(\u001b[0m\u001b[0;34m)\u001b[0m\u001b[0;34m\u001b[0m\u001b[0;34m\u001b[0m\u001b[0m\n\u001b[0;32m--> 620\u001b[0;31m         read_items[key] = self.read_data(writer_schema.values,\n\u001b[0m\u001b[1;32m    621\u001b[0m                                          reader_schema.values, decoder)\n\u001b[1;32m    622\u001b[0m       \u001b[0mblock_count\u001b[0m \u001b[0;34m=\u001b[0m \u001b[0mdecoder\u001b[0m\u001b[0;34m.\u001b[0m\u001b[0mread_long\u001b[0m\u001b[0;34m(\u001b[0m\u001b[0;34m)\u001b[0m\u001b[0;34m\u001b[0m\u001b[0;34m\u001b[0m\u001b[0m\n",
            "\u001b[0;32m/usr/local/lib/python3.10/dist-packages/avro/io.py\u001b[0m in \u001b[0;36mread_data\u001b[0;34m(self, writer_schema, reader_schema, decoder)\u001b[0m\n\u001b[1;32m    474\u001b[0m       \u001b[0;32mreturn\u001b[0m \u001b[0mdecoder\u001b[0m\u001b[0;34m.\u001b[0m\u001b[0mread_double\u001b[0m\u001b[0;34m(\u001b[0m\u001b[0;34m)\u001b[0m\u001b[0;34m\u001b[0m\u001b[0;34m\u001b[0m\u001b[0m\n\u001b[1;32m    475\u001b[0m     \u001b[0;32melif\u001b[0m \u001b[0mwriter_schema\u001b[0m\u001b[0;34m.\u001b[0m\u001b[0mtype\u001b[0m \u001b[0;34m==\u001b[0m \u001b[0;34m'bytes'\u001b[0m\u001b[0;34m:\u001b[0m\u001b[0;34m\u001b[0m\u001b[0;34m\u001b[0m\u001b[0m\n\u001b[0;32m--> 476\u001b[0;31m       \u001b[0;32mreturn\u001b[0m \u001b[0mdecoder\u001b[0m\u001b[0;34m.\u001b[0m\u001b[0mread_bytes\u001b[0m\u001b[0;34m(\u001b[0m\u001b[0;34m)\u001b[0m\u001b[0;34m\u001b[0m\u001b[0;34m\u001b[0m\u001b[0m\n\u001b[0m\u001b[1;32m    477\u001b[0m     \u001b[0;32melif\u001b[0m \u001b[0mwriter_schema\u001b[0m\u001b[0;34m.\u001b[0m\u001b[0mtype\u001b[0m \u001b[0;34m==\u001b[0m \u001b[0;34m'fixed'\u001b[0m\u001b[0;34m:\u001b[0m\u001b[0;34m\u001b[0m\u001b[0;34m\u001b[0m\u001b[0m\n\u001b[1;32m    478\u001b[0m       \u001b[0;32mreturn\u001b[0m \u001b[0mself\u001b[0m\u001b[0;34m.\u001b[0m\u001b[0mread_fixed\u001b[0m\u001b[0;34m(\u001b[0m\u001b[0mwriter_schema\u001b[0m\u001b[0;34m,\u001b[0m \u001b[0mreader_schema\u001b[0m\u001b[0;34m,\u001b[0m \u001b[0mdecoder\u001b[0m\u001b[0;34m)\u001b[0m\u001b[0;34m\u001b[0m\u001b[0;34m\u001b[0m\u001b[0m\n",
            "\u001b[0;32m/usr/local/lib/python3.10/dist-packages/avro/io.py\u001b[0m in \u001b[0;36mread_bytes\u001b[0;34m(self)\u001b[0m\n\u001b[1;32m    213\u001b[0m     \"\"\"\n\u001b[1;32m    214\u001b[0m     \u001b[0mnbytes\u001b[0m \u001b[0;34m=\u001b[0m \u001b[0mself\u001b[0m\u001b[0;34m.\u001b[0m\u001b[0mread_long\u001b[0m\u001b[0;34m(\u001b[0m\u001b[0;34m)\u001b[0m\u001b[0;34m\u001b[0m\u001b[0;34m\u001b[0m\u001b[0m\n\u001b[0;32m--> 215\u001b[0;31m     \u001b[0;32massert\u001b[0m \u001b[0;34m(\u001b[0m\u001b[0mnbytes\u001b[0m \u001b[0;34m>=\u001b[0m \u001b[0;36m0\u001b[0m\u001b[0;34m)\u001b[0m\u001b[0;34m,\u001b[0m \u001b[0mnbytes\u001b[0m\u001b[0;34m\u001b[0m\u001b[0;34m\u001b[0m\u001b[0m\n\u001b[0m\u001b[1;32m    216\u001b[0m     \u001b[0;32mreturn\u001b[0m \u001b[0mself\u001b[0m\u001b[0;34m.\u001b[0m\u001b[0mread\u001b[0m\u001b[0;34m(\u001b[0m\u001b[0mnbytes\u001b[0m\u001b[0;34m)\u001b[0m\u001b[0;34m\u001b[0m\u001b[0;34m\u001b[0m\u001b[0m\n\u001b[1;32m    217\u001b[0m \u001b[0;34m\u001b[0m\u001b[0m\n",
            "\u001b[0;31mAssertionError\u001b[0m: -2600952"
          ]
        }
      ]
    },
    {
      "cell_type": "code",
      "source": [
        "schema_new = {\n",
        "    'name': 'avro.example.User',\n",
        "    'type': 'record',\n",
        "    'fields': [\n",
        "        {'name': 'name', 'type': 'string'},\n",
        "        {'name': 'age', 'type': 'int'},\n",
        "        {'name': 'favoriteNumber', 'type': 'int'}\n",
        "    ]\n",
        "}\n",
        "\n",
        "with open('users_new.avro', 'wb') as f:\n",
        "    writer = DataFileWriter(f, DatumWriter(), avro.schema.Parse(json.dumps(schema_new)))\n",
        "    writer.append({'name': 'Pierre-Simon Laplace', 'age': 77, 'favoriteNumber': 1337})\n",
        "    writer.append({'name': 'John von Neumann', 'age': 53, 'favoriteNumber': 228})\n",
        "    writer.close()"
      ],
      "metadata": {
        "id": "ChJCsjJmvBOn"
      },
      "execution_count": null,
      "outputs": []
    },
    {
      "cell_type": "code",
      "source": [
        "with open('users_new.avro', 'rb') as f:\n",
        "    reader = DataFileReader(f, DatumReader(schema_parsed, schema_parsed))\n",
        "    metadata = copy.deepcopy(reader.meta)\n",
        "    schema_from_file = json.loads(metadata['avro.schema'])\n",
        "    users = [user for user in reader]\n",
        "    reader.close()\n",
        "\n",
        "print(f'Schema that we specified:\\n {schema}')\n",
        "print(f'Schema that we parsed:\\n {schema_parsed}')\n",
        "print(f'Schema from users.avro file:\\n {schema_from_file}')\n",
        "print(f'Users:\\n {users}')"
      ],
      "metadata": {
        "colab": {
          "base_uri": "https://localhost:8080/"
        },
        "id": "8PDIAAd6ve6H",
        "outputId": "f5a77381-5fe0-472d-f734-ef23e1f063a4"
      },
      "execution_count": null,
      "outputs": [
        {
          "output_type": "stream",
          "name": "stdout",
          "text": [
            "Schema that we specified:\n",
            " {'name': 'avro.example.User', 'type': 'record', 'fields': [{'name': 'name', 'type': 'string'}, {'name': 'age', 'type': 'int'}]}\n",
            "Schema that we parsed:\n",
            " {\"type\": \"record\", \"name\": \"User\", \"namespace\": \"avro.example\", \"fields\": [{\"type\": \"string\", \"name\": \"name\"}, {\"type\": \"int\", \"name\": \"age\"}]}\n",
            "Schema from users.avro file:\n",
            " {'type': 'record', 'name': 'User', 'namespace': 'avro.example', 'fields': [{'type': 'string', 'name': 'name'}, {'type': 'int', 'name': 'age'}, {'type': 'int', 'name': 'favoriteNumber'}]}\n",
            "Users:\n",
            " [{'name': 'Pierre-Simon Laplace', 'age': 77}, {'name': 'John von Neumann', 'age': 53}]\n"
          ]
        }
      ]
    },
    {
      "cell_type": "code",
      "source": [
        "schema_new = {\n",
        "    'name': 'avro.example.User',\n",
        "    'type': 'record',\n",
        "    'fields': [\n",
        "        {'name': 'name', 'type': 'string'},\n",
        "        {'name': 'age', 'type': 'string'},\n",
        "        {'name': 'favoriteNumber', 'type': 'int'}\n",
        "    ]\n",
        "}\n",
        "\n",
        "with open('users_corrupted.avro', 'wb') as f:\n",
        "    writer = DataFileWriter(f, DatumWriter(), avro.schema.Parse(json.dumps(schema_new)))\n",
        "    writer.append({'name': 'Pierre-Simon Laplace', 'age': '77', 'favoriteNumber': 1337})\n",
        "    writer.append({'name': 'John von Neumann', 'age': '53', 'favoriteNumber': 228})\n",
        "    writer.close()"
      ],
      "metadata": {
        "id": "0WLyjxcU1ZeZ"
      },
      "execution_count": null,
      "outputs": []
    },
    {
      "cell_type": "code",
      "source": [
        "with open('users_corrupted.avro', 'rb') as f:\n",
        "    reader = DataFileReader(f, DatumReader(schema_parsed, schema_parsed))\n",
        "    metadata = copy.deepcopy(reader.meta)\n",
        "    schema_from_file = json.loads(metadata['avro.schema'])\n",
        "    users = [user for user in reader]\n",
        "    reader.close()\n",
        "\n",
        "print(f'Schema that we specified:\\n {schema}')\n",
        "print(f'Schema that we parsed:\\n {schema_parsed}')\n",
        "print(f'Schema from users.avro file:\\n {schema_from_file}')\n",
        "print(f'Users:\\n {users}')"
      ],
      "metadata": {
        "colab": {
          "base_uri": "https://localhost:8080/",
          "height": 419
        },
        "id": "F7eQL4Ea1fHe",
        "outputId": "732aae49-4d1f-443f-e080-2823330d4fb5"
      },
      "execution_count": null,
      "outputs": [
        {
          "output_type": "error",
          "ename": "SchemaResolutionException",
          "evalue": "Schemas do not match.\nWriter's Schema: \"string\"\nReader's Schema: \"int\"",
          "traceback": [
            "\u001b[0;31m---------------------------------------------------------------------------\u001b[0m",
            "\u001b[0;31mSchemaResolutionException\u001b[0m                 Traceback (most recent call last)",
            "\u001b[0;32m<ipython-input-13-3d3120792bc2>\u001b[0m in \u001b[0;36m<cell line: 1>\u001b[0;34m()\u001b[0m\n\u001b[1;32m      3\u001b[0m     \u001b[0mmetadata\u001b[0m \u001b[0;34m=\u001b[0m \u001b[0mcopy\u001b[0m\u001b[0;34m.\u001b[0m\u001b[0mdeepcopy\u001b[0m\u001b[0;34m(\u001b[0m\u001b[0mreader\u001b[0m\u001b[0;34m.\u001b[0m\u001b[0mmeta\u001b[0m\u001b[0;34m)\u001b[0m\u001b[0;34m\u001b[0m\u001b[0;34m\u001b[0m\u001b[0m\n\u001b[1;32m      4\u001b[0m     \u001b[0mschema_from_file\u001b[0m \u001b[0;34m=\u001b[0m \u001b[0mjson\u001b[0m\u001b[0;34m.\u001b[0m\u001b[0mloads\u001b[0m\u001b[0;34m(\u001b[0m\u001b[0mmetadata\u001b[0m\u001b[0;34m[\u001b[0m\u001b[0;34m'avro.schema'\u001b[0m\u001b[0;34m]\u001b[0m\u001b[0;34m)\u001b[0m\u001b[0;34m\u001b[0m\u001b[0;34m\u001b[0m\u001b[0m\n\u001b[0;32m----> 5\u001b[0;31m     \u001b[0musers\u001b[0m \u001b[0;34m=\u001b[0m \u001b[0;34m[\u001b[0m\u001b[0muser\u001b[0m \u001b[0;32mfor\u001b[0m \u001b[0muser\u001b[0m \u001b[0;32min\u001b[0m \u001b[0mreader\u001b[0m\u001b[0;34m]\u001b[0m\u001b[0;34m\u001b[0m\u001b[0;34m\u001b[0m\u001b[0m\n\u001b[0m\u001b[1;32m      6\u001b[0m     \u001b[0mreader\u001b[0m\u001b[0;34m.\u001b[0m\u001b[0mclose\u001b[0m\u001b[0;34m(\u001b[0m\u001b[0;34m)\u001b[0m\u001b[0;34m\u001b[0m\u001b[0;34m\u001b[0m\u001b[0m\n\u001b[1;32m      7\u001b[0m \u001b[0;34m\u001b[0m\u001b[0m\n",
            "\u001b[0;32m<ipython-input-13-3d3120792bc2>\u001b[0m in \u001b[0;36m<listcomp>\u001b[0;34m(.0)\u001b[0m\n\u001b[1;32m      3\u001b[0m     \u001b[0mmetadata\u001b[0m \u001b[0;34m=\u001b[0m \u001b[0mcopy\u001b[0m\u001b[0;34m.\u001b[0m\u001b[0mdeepcopy\u001b[0m\u001b[0;34m(\u001b[0m\u001b[0mreader\u001b[0m\u001b[0;34m.\u001b[0m\u001b[0mmeta\u001b[0m\u001b[0;34m)\u001b[0m\u001b[0;34m\u001b[0m\u001b[0;34m\u001b[0m\u001b[0m\n\u001b[1;32m      4\u001b[0m     \u001b[0mschema_from_file\u001b[0m \u001b[0;34m=\u001b[0m \u001b[0mjson\u001b[0m\u001b[0;34m.\u001b[0m\u001b[0mloads\u001b[0m\u001b[0;34m(\u001b[0m\u001b[0mmetadata\u001b[0m\u001b[0;34m[\u001b[0m\u001b[0;34m'avro.schema'\u001b[0m\u001b[0;34m]\u001b[0m\u001b[0;34m)\u001b[0m\u001b[0;34m\u001b[0m\u001b[0;34m\u001b[0m\u001b[0m\n\u001b[0;32m----> 5\u001b[0;31m     \u001b[0musers\u001b[0m \u001b[0;34m=\u001b[0m \u001b[0;34m[\u001b[0m\u001b[0muser\u001b[0m \u001b[0;32mfor\u001b[0m \u001b[0muser\u001b[0m \u001b[0;32min\u001b[0m \u001b[0mreader\u001b[0m\u001b[0;34m]\u001b[0m\u001b[0;34m\u001b[0m\u001b[0;34m\u001b[0m\u001b[0m\n\u001b[0m\u001b[1;32m      6\u001b[0m     \u001b[0mreader\u001b[0m\u001b[0;34m.\u001b[0m\u001b[0mclose\u001b[0m\u001b[0;34m(\u001b[0m\u001b[0;34m)\u001b[0m\u001b[0;34m\u001b[0m\u001b[0;34m\u001b[0m\u001b[0m\n\u001b[1;32m      7\u001b[0m \u001b[0;34m\u001b[0m\u001b[0m\n",
            "\u001b[0;32m/usr/local/lib/python3.10/dist-packages/avro/datafile.py\u001b[0m in \u001b[0;36m__next__\u001b[0;34m(self)\u001b[0m\n\u001b[1;32m    561\u001b[0m       \u001b[0mself\u001b[0m\u001b[0;34m.\u001b[0m\u001b[0m_read_block_header\u001b[0m\u001b[0;34m(\u001b[0m\u001b[0;34m)\u001b[0m\u001b[0;34m\u001b[0m\u001b[0;34m\u001b[0m\u001b[0m\n\u001b[1;32m    562\u001b[0m \u001b[0;34m\u001b[0m\u001b[0m\n\u001b[0;32m--> 563\u001b[0;31m     \u001b[0mdatum\u001b[0m \u001b[0;34m=\u001b[0m \u001b[0mself\u001b[0m\u001b[0;34m.\u001b[0m\u001b[0mdatum_reader\u001b[0m\u001b[0;34m.\u001b[0m\u001b[0mread\u001b[0m\u001b[0;34m(\u001b[0m\u001b[0mself\u001b[0m\u001b[0;34m.\u001b[0m\u001b[0mdatum_decoder\u001b[0m\u001b[0;34m)\u001b[0m\u001b[0;34m\u001b[0m\u001b[0;34m\u001b[0m\u001b[0m\n\u001b[0m\u001b[1;32m    564\u001b[0m     \u001b[0mself\u001b[0m\u001b[0;34m.\u001b[0m\u001b[0m_block_count\u001b[0m \u001b[0;34m-=\u001b[0m \u001b[0;36m1\u001b[0m\u001b[0;34m\u001b[0m\u001b[0;34m\u001b[0m\u001b[0m\n\u001b[1;32m    565\u001b[0m     \u001b[0;32mreturn\u001b[0m \u001b[0mdatum\u001b[0m\u001b[0;34m\u001b[0m\u001b[0;34m\u001b[0m\u001b[0m\n",
            "\u001b[0;32m/usr/local/lib/python3.10/dist-packages/avro/io.py\u001b[0m in \u001b[0;36mread\u001b[0;34m(self, decoder)\u001b[0m\n\u001b[1;32m    441\u001b[0m     \u001b[0;32mif\u001b[0m \u001b[0mself\u001b[0m\u001b[0;34m.\u001b[0m\u001b[0mreader_schema\u001b[0m \u001b[0;32mis\u001b[0m \u001b[0;32mNone\u001b[0m\u001b[0;34m:\u001b[0m\u001b[0;34m\u001b[0m\u001b[0;34m\u001b[0m\u001b[0m\n\u001b[1;32m    442\u001b[0m       \u001b[0mself\u001b[0m\u001b[0;34m.\u001b[0m\u001b[0mreader_schema\u001b[0m \u001b[0;34m=\u001b[0m \u001b[0mself\u001b[0m\u001b[0;34m.\u001b[0m\u001b[0mwriter_schema\u001b[0m\u001b[0;34m\u001b[0m\u001b[0;34m\u001b[0m\u001b[0m\n\u001b[0;32m--> 443\u001b[0;31m     \u001b[0;32mreturn\u001b[0m \u001b[0mself\u001b[0m\u001b[0;34m.\u001b[0m\u001b[0mread_data\u001b[0m\u001b[0;34m(\u001b[0m\u001b[0mself\u001b[0m\u001b[0;34m.\u001b[0m\u001b[0mwriter_schema\u001b[0m\u001b[0;34m,\u001b[0m \u001b[0mself\u001b[0m\u001b[0;34m.\u001b[0m\u001b[0mreader_schema\u001b[0m\u001b[0;34m,\u001b[0m \u001b[0mdecoder\u001b[0m\u001b[0;34m)\u001b[0m\u001b[0;34m\u001b[0m\u001b[0;34m\u001b[0m\u001b[0m\n\u001b[0m\u001b[1;32m    444\u001b[0m \u001b[0;34m\u001b[0m\u001b[0m\n\u001b[1;32m    445\u001b[0m   \u001b[0;32mdef\u001b[0m \u001b[0mread_data\u001b[0m\u001b[0;34m(\u001b[0m\u001b[0mself\u001b[0m\u001b[0;34m,\u001b[0m \u001b[0mwriter_schema\u001b[0m\u001b[0;34m,\u001b[0m \u001b[0mreader_schema\u001b[0m\u001b[0;34m,\u001b[0m \u001b[0mdecoder\u001b[0m\u001b[0;34m)\u001b[0m\u001b[0;34m:\u001b[0m\u001b[0;34m\u001b[0m\u001b[0;34m\u001b[0m\u001b[0m\n",
            "\u001b[0;32m/usr/local/lib/python3.10/dist-packages/avro/io.py\u001b[0m in \u001b[0;36mread_data\u001b[0;34m(self, writer_schema, reader_schema, decoder)\u001b[0m\n\u001b[1;32m    486\u001b[0m       \u001b[0;32mreturn\u001b[0m \u001b[0mself\u001b[0m\u001b[0;34m.\u001b[0m\u001b[0mread_union\u001b[0m\u001b[0;34m(\u001b[0m\u001b[0mwriter_schema\u001b[0m\u001b[0;34m,\u001b[0m \u001b[0mreader_schema\u001b[0m\u001b[0;34m,\u001b[0m \u001b[0mdecoder\u001b[0m\u001b[0;34m)\u001b[0m\u001b[0;34m\u001b[0m\u001b[0;34m\u001b[0m\u001b[0m\n\u001b[1;32m    487\u001b[0m     \u001b[0;32melif\u001b[0m \u001b[0mwriter_schema\u001b[0m\u001b[0;34m.\u001b[0m\u001b[0mtype\u001b[0m \u001b[0;32min\u001b[0m \u001b[0;34m[\u001b[0m\u001b[0;34m'record'\u001b[0m\u001b[0;34m,\u001b[0m \u001b[0;34m'error'\u001b[0m\u001b[0;34m,\u001b[0m \u001b[0;34m'request'\u001b[0m\u001b[0;34m]\u001b[0m\u001b[0;34m:\u001b[0m\u001b[0;34m\u001b[0m\u001b[0;34m\u001b[0m\u001b[0m\n\u001b[0;32m--> 488\u001b[0;31m       \u001b[0;32mreturn\u001b[0m \u001b[0mself\u001b[0m\u001b[0;34m.\u001b[0m\u001b[0mread_record\u001b[0m\u001b[0;34m(\u001b[0m\u001b[0mwriter_schema\u001b[0m\u001b[0;34m,\u001b[0m \u001b[0mreader_schema\u001b[0m\u001b[0;34m,\u001b[0m \u001b[0mdecoder\u001b[0m\u001b[0;34m)\u001b[0m\u001b[0;34m\u001b[0m\u001b[0;34m\u001b[0m\u001b[0m\n\u001b[0m\u001b[1;32m    489\u001b[0m     \u001b[0;32melse\u001b[0m\u001b[0;34m:\u001b[0m\u001b[0;34m\u001b[0m\u001b[0;34m\u001b[0m\u001b[0m\n\u001b[1;32m    490\u001b[0m       \u001b[0mfail_msg\u001b[0m \u001b[0;34m=\u001b[0m \u001b[0;34m\"Cannot read unknown schema type: %s\"\u001b[0m \u001b[0;34m%\u001b[0m \u001b[0mwriter_schema\u001b[0m\u001b[0;34m.\u001b[0m\u001b[0mtype\u001b[0m\u001b[0;34m\u001b[0m\u001b[0;34m\u001b[0m\u001b[0m\n",
            "\u001b[0;32m/usr/local/lib/python3.10/dist-packages/avro/io.py\u001b[0m in \u001b[0;36mread_record\u001b[0;34m(self, writer_schema, reader_schema, decoder)\u001b[0m\n\u001b[1;32m    686\u001b[0m       \u001b[0mreaders_field\u001b[0m \u001b[0;34m=\u001b[0m \u001b[0mreaders_fields_dict\u001b[0m\u001b[0;34m.\u001b[0m\u001b[0mget\u001b[0m\u001b[0;34m(\u001b[0m\u001b[0mfield\u001b[0m\u001b[0;34m.\u001b[0m\u001b[0mname\u001b[0m\u001b[0;34m)\u001b[0m\u001b[0;34m\u001b[0m\u001b[0;34m\u001b[0m\u001b[0m\n\u001b[1;32m    687\u001b[0m       \u001b[0;32mif\u001b[0m \u001b[0mreaders_field\u001b[0m \u001b[0;32mis\u001b[0m \u001b[0;32mnot\u001b[0m \u001b[0;32mNone\u001b[0m\u001b[0;34m:\u001b[0m\u001b[0;34m\u001b[0m\u001b[0;34m\u001b[0m\u001b[0m\n\u001b[0;32m--> 688\u001b[0;31m         \u001b[0mfield_val\u001b[0m \u001b[0;34m=\u001b[0m \u001b[0mself\u001b[0m\u001b[0;34m.\u001b[0m\u001b[0mread_data\u001b[0m\u001b[0;34m(\u001b[0m\u001b[0mfield\u001b[0m\u001b[0;34m.\u001b[0m\u001b[0mtype\u001b[0m\u001b[0;34m,\u001b[0m \u001b[0mreaders_field\u001b[0m\u001b[0;34m.\u001b[0m\u001b[0mtype\u001b[0m\u001b[0;34m,\u001b[0m \u001b[0mdecoder\u001b[0m\u001b[0;34m)\u001b[0m\u001b[0;34m\u001b[0m\u001b[0;34m\u001b[0m\u001b[0m\n\u001b[0m\u001b[1;32m    689\u001b[0m         \u001b[0mread_record\u001b[0m\u001b[0;34m[\u001b[0m\u001b[0mfield\u001b[0m\u001b[0;34m.\u001b[0m\u001b[0mname\u001b[0m\u001b[0;34m]\u001b[0m \u001b[0;34m=\u001b[0m \u001b[0mfield_val\u001b[0m\u001b[0;34m\u001b[0m\u001b[0;34m\u001b[0m\u001b[0m\n\u001b[1;32m    690\u001b[0m       \u001b[0;32melse\u001b[0m\u001b[0;34m:\u001b[0m\u001b[0;34m\u001b[0m\u001b[0;34m\u001b[0m\u001b[0m\n",
            "\u001b[0;32m/usr/local/lib/python3.10/dist-packages/avro/io.py\u001b[0m in \u001b[0;36mread_data\u001b[0;34m(self, writer_schema, reader_schema, decoder)\u001b[0m\n\u001b[1;32m    447\u001b[0m     \u001b[0;32mif\u001b[0m \u001b[0;32mnot\u001b[0m \u001b[0mDatumReader\u001b[0m\u001b[0;34m.\u001b[0m\u001b[0mmatch_schemas\u001b[0m\u001b[0;34m(\u001b[0m\u001b[0mwriter_schema\u001b[0m\u001b[0;34m,\u001b[0m \u001b[0mreader_schema\u001b[0m\u001b[0;34m)\u001b[0m\u001b[0;34m:\u001b[0m\u001b[0;34m\u001b[0m\u001b[0;34m\u001b[0m\u001b[0m\n\u001b[1;32m    448\u001b[0m       \u001b[0mfail_msg\u001b[0m \u001b[0;34m=\u001b[0m \u001b[0;34m'Schemas do not match.'\u001b[0m\u001b[0;34m\u001b[0m\u001b[0;34m\u001b[0m\u001b[0m\n\u001b[0;32m--> 449\u001b[0;31m       \u001b[0;32mraise\u001b[0m \u001b[0mSchemaResolutionException\u001b[0m\u001b[0;34m(\u001b[0m\u001b[0mfail_msg\u001b[0m\u001b[0;34m,\u001b[0m \u001b[0mwriter_schema\u001b[0m\u001b[0;34m,\u001b[0m \u001b[0mreader_schema\u001b[0m\u001b[0;34m)\u001b[0m\u001b[0;34m\u001b[0m\u001b[0;34m\u001b[0m\u001b[0m\n\u001b[0m\u001b[1;32m    450\u001b[0m \u001b[0;34m\u001b[0m\u001b[0m\n\u001b[1;32m    451\u001b[0m     \u001b[0;31m# schema resolution: reader's schema is a union, writer's schema is not\u001b[0m\u001b[0;34m\u001b[0m\u001b[0;34m\u001b[0m\u001b[0m\n",
            "\u001b[0;31mSchemaResolutionException\u001b[0m: Schemas do not match.\nWriter's Schema: \"string\"\nReader's Schema: \"int\""
          ]
        }
      ]
    },
    {
      "cell_type": "code",
      "source": [
        "with open('users_corrupted.avro', 'rb') as f:\n",
        "    reader = DataFileReader(f, DatumReader())\n",
        "    metadata = copy.deepcopy(reader.meta)\n",
        "    schema_from_file = json.loads(metadata['avro.schema'])\n",
        "    users = [user for user in reader]\n",
        "    reader.close()\n",
        "\n",
        "print(f'Schema that we specified:\\n {schema}')\n",
        "print(f'Schema that we parsed:\\n {schema_parsed}')\n",
        "print(f'Schema from users.avro file:\\n {schema_from_file}')\n",
        "print(f'Users:\\n {users}')"
      ],
      "metadata": {
        "colab": {
          "base_uri": "https://localhost:8080/"
        },
        "id": "QbqnlHLHShM6",
        "outputId": "9908876a-ac79-4d52-c818-6bfd8c2a7f96"
      },
      "execution_count": null,
      "outputs": [
        {
          "output_type": "stream",
          "name": "stdout",
          "text": [
            "Schema that we specified:\n",
            " {'name': 'avro.example.User', 'type': 'record', 'fields': [{'name': 'name', 'type': 'string'}, {'name': 'age', 'type': 'int'}]}\n",
            "Schema that we parsed:\n",
            " {\"type\": \"record\", \"name\": \"User\", \"namespace\": \"avro.example\", \"fields\": [{\"type\": \"string\", \"name\": \"name\"}, {\"type\": \"int\", \"name\": \"age\"}]}\n",
            "Schema from users.avro file:\n",
            " {'type': 'record', 'name': 'User', 'namespace': 'avro.example', 'fields': [{'type': 'string', 'name': 'name'}, {'type': 'string', 'name': 'age'}, {'type': 'int', 'name': 'favoriteNumber'}]}\n",
            "Users:\n",
            " [{'name': 'Pierre-Simon Laplace', 'age': '77', 'favoriteNumber': 1337}, {'name': 'John von Neumann', 'age': '53', 'favoriteNumber': 228}]\n"
          ]
        }
      ]
    },
    {
      "cell_type": "markdown",
      "source": [
        "---\n",
        "\n",
        "# Apache Parquet"
      ],
      "metadata": {
        "id": "R2PF8mEXw7R3"
      }
    },
    {
      "cell_type": "code",
      "source": [
        "!pip install pyarrow"
      ],
      "metadata": {
        "colab": {
          "base_uri": "https://localhost:8080/"
        },
        "id": "oEhV3TZTvla9",
        "outputId": "7c30d383-737b-49c5-fb65-39647bea5351"
      },
      "execution_count": null,
      "outputs": [
        {
          "output_type": "stream",
          "name": "stdout",
          "text": [
            "Requirement already satisfied: pyarrow in /usr/local/lib/python3.10/dist-packages (9.0.0)\n",
            "Requirement already satisfied: numpy>=1.16.6 in /usr/local/lib/python3.10/dist-packages (from pyarrow) (1.23.5)\n"
          ]
        }
      ]
    },
    {
      "cell_type": "code",
      "source": [
        "import pandas as pd\n",
        "import pyarrow as pa\n",
        "import pyarrow.parquet as pq"
      ],
      "metadata": {
        "id": "jrAxaFLlxHlo"
      },
      "execution_count": null,
      "outputs": []
    },
    {
      "cell_type": "code",
      "source": [
        "weather_schema = pa.schema([\n",
        "    ('city', pa.string()),\n",
        "    ('measurement_time', pa.timestamp('ms')),\n",
        "    ('temperature', pa.float32()),\n",
        "    ('atmospheric_pressure', pa.float32())\n",
        "])"
      ],
      "metadata": {
        "id": "mCMyOcHAxOXa"
      },
      "execution_count": null,
      "outputs": []
    },
    {
      "cell_type": "code",
      "source": [
        "from datetime import datetime"
      ],
      "metadata": {
        "id": "1qd_DNN3xyaX"
      },
      "execution_count": null,
      "outputs": []
    },
    {
      "cell_type": "code",
      "source": [
        "df = pd.DataFrame({\n",
        "    'city': ['New York', 'London', 'Tokyo'],\n",
        "    'measurement_time': [\n",
        "        datetime(2022, 5, 1, 12, 0, 0),\n",
        "        datetime(2022, 5, 1, 13, 0, 0),\n",
        "        datetime(2022, 5, 1, 14, 0, 0)],\n",
        "    'temperature': [20.5, 15.2, 23.1],\n",
        "    'atmospheric_pressure': [101.5, 99.2, 100.1]\n",
        "})\n",
        "\n",
        "table = pa.Table.from_pandas(df, schema=weather_schema)\n",
        "\n",
        "pq.write_table(table, 'weather_data.parquet')"
      ],
      "metadata": {
        "id": "e9hCpKjexSZ7"
      },
      "execution_count": null,
      "outputs": []
    },
    {
      "cell_type": "code",
      "source": [
        "# Define the output path for the Parquet dataset\n",
        "output_path = 'weather_partitioned_data'\n",
        "\n",
        "# Write the data to a Parquet dataset partitioned by city\n",
        "pq.write_to_dataset(\n",
        "    table,\n",
        "    root_path=output_path,\n",
        "    partition_cols=['city']\n",
        ")"
      ],
      "metadata": {
        "id": "seo-Ypt6xhwL"
      },
      "execution_count": null,
      "outputs": []
    },
    {
      "cell_type": "markdown",
      "source": [
        "---\n",
        "\n",
        "# Compressing dataset\n",
        "\n",
        "https://www.kaggle.com/datasets/stefanoleone992/ea-sports-fc-24-complete-player-dataset/"
      ],
      "metadata": {
        "id": "iWNVYTj-gJs_"
      }
    },
    {
      "cell_type": "code",
      "source": [
        "!unzip archive.zip"
      ],
      "metadata": {
        "colab": {
          "base_uri": "https://localhost:8080/"
        },
        "id": "HRKZfnY2yO2U",
        "outputId": "bdaa1cbf-f551-4a5d-fc64-560dc5ef021a"
      },
      "execution_count": null,
      "outputs": [
        {
          "output_type": "stream",
          "name": "stdout",
          "text": [
            "Archive:  archive.zip\n",
            "  inflating: female_coaches.csv      \n",
            "  inflating: female_players.csv      \n",
            "  inflating: female_teams.csv        \n",
            "  inflating: male_coaches.csv        \n",
            "  inflating: male_players.csv        \n",
            "  inflating: male_teams.csv          \n"
          ]
        }
      ]
    },
    {
      "cell_type": "code",
      "source": [
        "import pandas as pd\n",
        "\n",
        "big_df = pd.read_csv('male_players.csv')\n",
        "big_df"
      ],
      "metadata": {
        "colab": {
          "base_uri": "https://localhost:8080/",
          "height": 759
        },
        "id": "e70k0XushC1R",
        "outputId": "c5b470a3-acf5-4662-e6b6-c15f5915ada9"
      },
      "execution_count": null,
      "outputs": [
        {
          "output_type": "stream",
          "name": "stderr",
          "text": [
            "<ipython-input-17-1d4041304ba6>:3: DtypeWarning: Columns (108) have mixed types. Specify dtype option on import or set low_memory=False.\n",
            "  big_df = pd.read_csv('male_players.csv')\n"
          ]
        },
        {
          "output_type": "execute_result",
          "data": {
            "text/plain": [
              "        player_id                                         player_url  \\\n",
              "0          231747                /player/231747/kylian-mbappe/240002   \n",
              "1          239085               /player/239085/erling-haaland/240002   \n",
              "2          192985              /player/192985/kevin-de-bruyne/240002   \n",
              "3          158023                 /player/158023/lionel-messi/240002   \n",
              "4          165153                /player/165153/karim-benzema/240002   \n",
              "...           ...                                                ...   \n",
              "180016     220806  https://sofifa.com/player/220806/ellis-redman/...   \n",
              "180017     225509  https://sofifa.com/player/225509/aaron-collins...   \n",
              "180018     217591  https://sofifa.com/player/217591/piotr-zemlo/1...   \n",
              "180019     222947  https://sofifa.com/player/222947/tom-davies/15...   \n",
              "180020     201197  https://sofifa.com/player/201197/paul-tisdale/...   \n",
              "\n",
              "        fifa_version  fifa_update update_as_of    short_name  \\\n",
              "0               24.0          2.0   2023-09-22     K. Mbappé   \n",
              "1               24.0          2.0   2023-09-22    E. Haaland   \n",
              "2               24.0          2.0   2023-09-22  K. De Bruyne   \n",
              "3               24.0          2.0   2023-09-22      L. Messi   \n",
              "4               24.0          2.0   2023-09-22    K. Benzema   \n",
              "...              ...          ...          ...           ...   \n",
              "180016          15.0          2.0   2014-09-18     E. Redman   \n",
              "180017          15.0          2.0   2014-09-18    A. Collins   \n",
              "180018          15.0          2.0   2014-09-18      P. Żemło   \n",
              "180019          15.0          2.0   2014-09-18     T. Davies   \n",
              "180020          15.0          2.0   2014-09-18    P. Tisdale   \n",
              "\n",
              "                             long_name player_positions  overall  potential  \\\n",
              "0                 Kylian Mbappé Lottin           ST, LW       91         94   \n",
              "1                 Erling Braut Haaland               ST       91         94   \n",
              "2                      Kevin De Bruyne          CM, CAM       91         91   \n",
              "3       Lionel Andrés Messi Cuccittini          CF, CAM       90         90   \n",
              "4                        Karim Benzema           CF, ST       90         90   \n",
              "...                                ...              ...      ...        ...   \n",
              "180016                    Ellis Redman               CB       41         61   \n",
              "180017       Aaron Graham John Collins               ST       41         50   \n",
              "180018                     Piotr Żemło           LM, LB       40         50   \n",
              "180019       Thomas Christopher Davies               CB       40         49   \n",
              "180020                    Paul Tisdale          CM, CAM       40         40   \n",
              "\n",
              "        ...   ldm   cdm   rdm   rwb    lb   lcb    cb   rcb    rb    gk  \n",
              "0       ...  63+3  63+3  63+3  68+3  63+3  54+3  54+3  54+3  63+3  18+3  \n",
              "1       ...  63+3  63+3  63+3  62+3  60+3  62+3  62+3  62+3  60+3  19+3  \n",
              "2       ...  80+3  80+3  80+3  79+3  75+3  70+3  70+3  70+3  75+3  21+3  \n",
              "3       ...  63+3  63+3  63+3  64+3  59+3  49+3  49+3  49+3  59+3  19+3  \n",
              "4       ...  64+3  64+3  64+3  64+3  60+3  55+3  55+3  55+3  60+3  18+3  \n",
              "...     ...   ...   ...   ...   ...   ...   ...   ...   ...   ...   ...  \n",
              "180016  ...    38    38    38    37    40    41    41    41    40    10  \n",
              "180017  ...    30    30    30    31    32    31    31    31    32    14  \n",
              "180018  ...    46    46    46    48  51-1  53-3  53-3  53-3  51-1    12  \n",
              "180019  ...    36    36    36    37    39    40    40    40    39    13  \n",
              "180020  ...    37    37    37    36    34    33    33    33    34    10  \n",
              "\n",
              "[180021 rows x 109 columns]"
            ],
            "text/html": [
              "\n",
              "  <div id=\"df-a2f5539b-b8dd-44c6-8316-f7c2eaa5d99f\" class=\"colab-df-container\">\n",
              "    <div>\n",
              "<style scoped>\n",
              "    .dataframe tbody tr th:only-of-type {\n",
              "        vertical-align: middle;\n",
              "    }\n",
              "\n",
              "    .dataframe tbody tr th {\n",
              "        vertical-align: top;\n",
              "    }\n",
              "\n",
              "    .dataframe thead th {\n",
              "        text-align: right;\n",
              "    }\n",
              "</style>\n",
              "<table border=\"1\" class=\"dataframe\">\n",
              "  <thead>\n",
              "    <tr style=\"text-align: right;\">\n",
              "      <th></th>\n",
              "      <th>player_id</th>\n",
              "      <th>player_url</th>\n",
              "      <th>fifa_version</th>\n",
              "      <th>fifa_update</th>\n",
              "      <th>update_as_of</th>\n",
              "      <th>short_name</th>\n",
              "      <th>long_name</th>\n",
              "      <th>player_positions</th>\n",
              "      <th>overall</th>\n",
              "      <th>potential</th>\n",
              "      <th>...</th>\n",
              "      <th>ldm</th>\n",
              "      <th>cdm</th>\n",
              "      <th>rdm</th>\n",
              "      <th>rwb</th>\n",
              "      <th>lb</th>\n",
              "      <th>lcb</th>\n",
              "      <th>cb</th>\n",
              "      <th>rcb</th>\n",
              "      <th>rb</th>\n",
              "      <th>gk</th>\n",
              "    </tr>\n",
              "  </thead>\n",
              "  <tbody>\n",
              "    <tr>\n",
              "      <th>0</th>\n",
              "      <td>231747</td>\n",
              "      <td>/player/231747/kylian-mbappe/240002</td>\n",
              "      <td>24.0</td>\n",
              "      <td>2.0</td>\n",
              "      <td>2023-09-22</td>\n",
              "      <td>K. Mbappé</td>\n",
              "      <td>Kylian Mbappé Lottin</td>\n",
              "      <td>ST, LW</td>\n",
              "      <td>91</td>\n",
              "      <td>94</td>\n",
              "      <td>...</td>\n",
              "      <td>63+3</td>\n",
              "      <td>63+3</td>\n",
              "      <td>63+3</td>\n",
              "      <td>68+3</td>\n",
              "      <td>63+3</td>\n",
              "      <td>54+3</td>\n",
              "      <td>54+3</td>\n",
              "      <td>54+3</td>\n",
              "      <td>63+3</td>\n",
              "      <td>18+3</td>\n",
              "    </tr>\n",
              "    <tr>\n",
              "      <th>1</th>\n",
              "      <td>239085</td>\n",
              "      <td>/player/239085/erling-haaland/240002</td>\n",
              "      <td>24.0</td>\n",
              "      <td>2.0</td>\n",
              "      <td>2023-09-22</td>\n",
              "      <td>E. Haaland</td>\n",
              "      <td>Erling Braut Haaland</td>\n",
              "      <td>ST</td>\n",
              "      <td>91</td>\n",
              "      <td>94</td>\n",
              "      <td>...</td>\n",
              "      <td>63+3</td>\n",
              "      <td>63+3</td>\n",
              "      <td>63+3</td>\n",
              "      <td>62+3</td>\n",
              "      <td>60+3</td>\n",
              "      <td>62+3</td>\n",
              "      <td>62+3</td>\n",
              "      <td>62+3</td>\n",
              "      <td>60+3</td>\n",
              "      <td>19+3</td>\n",
              "    </tr>\n",
              "    <tr>\n",
              "      <th>2</th>\n",
              "      <td>192985</td>\n",
              "      <td>/player/192985/kevin-de-bruyne/240002</td>\n",
              "      <td>24.0</td>\n",
              "      <td>2.0</td>\n",
              "      <td>2023-09-22</td>\n",
              "      <td>K. De Bruyne</td>\n",
              "      <td>Kevin De Bruyne</td>\n",
              "      <td>CM, CAM</td>\n",
              "      <td>91</td>\n",
              "      <td>91</td>\n",
              "      <td>...</td>\n",
              "      <td>80+3</td>\n",
              "      <td>80+3</td>\n",
              "      <td>80+3</td>\n",
              "      <td>79+3</td>\n",
              "      <td>75+3</td>\n",
              "      <td>70+3</td>\n",
              "      <td>70+3</td>\n",
              "      <td>70+3</td>\n",
              "      <td>75+3</td>\n",
              "      <td>21+3</td>\n",
              "    </tr>\n",
              "    <tr>\n",
              "      <th>3</th>\n",
              "      <td>158023</td>\n",
              "      <td>/player/158023/lionel-messi/240002</td>\n",
              "      <td>24.0</td>\n",
              "      <td>2.0</td>\n",
              "      <td>2023-09-22</td>\n",
              "      <td>L. Messi</td>\n",
              "      <td>Lionel Andrés Messi Cuccittini</td>\n",
              "      <td>CF, CAM</td>\n",
              "      <td>90</td>\n",
              "      <td>90</td>\n",
              "      <td>...</td>\n",
              "      <td>63+3</td>\n",
              "      <td>63+3</td>\n",
              "      <td>63+3</td>\n",
              "      <td>64+3</td>\n",
              "      <td>59+3</td>\n",
              "      <td>49+3</td>\n",
              "      <td>49+3</td>\n",
              "      <td>49+3</td>\n",
              "      <td>59+3</td>\n",
              "      <td>19+3</td>\n",
              "    </tr>\n",
              "    <tr>\n",
              "      <th>4</th>\n",
              "      <td>165153</td>\n",
              "      <td>/player/165153/karim-benzema/240002</td>\n",
              "      <td>24.0</td>\n",
              "      <td>2.0</td>\n",
              "      <td>2023-09-22</td>\n",
              "      <td>K. Benzema</td>\n",
              "      <td>Karim Benzema</td>\n",
              "      <td>CF, ST</td>\n",
              "      <td>90</td>\n",
              "      <td>90</td>\n",
              "      <td>...</td>\n",
              "      <td>64+3</td>\n",
              "      <td>64+3</td>\n",
              "      <td>64+3</td>\n",
              "      <td>64+3</td>\n",
              "      <td>60+3</td>\n",
              "      <td>55+3</td>\n",
              "      <td>55+3</td>\n",
              "      <td>55+3</td>\n",
              "      <td>60+3</td>\n",
              "      <td>18+3</td>\n",
              "    </tr>\n",
              "    <tr>\n",
              "      <th>...</th>\n",
              "      <td>...</td>\n",
              "      <td>...</td>\n",
              "      <td>...</td>\n",
              "      <td>...</td>\n",
              "      <td>...</td>\n",
              "      <td>...</td>\n",
              "      <td>...</td>\n",
              "      <td>...</td>\n",
              "      <td>...</td>\n",
              "      <td>...</td>\n",
              "      <td>...</td>\n",
              "      <td>...</td>\n",
              "      <td>...</td>\n",
              "      <td>...</td>\n",
              "      <td>...</td>\n",
              "      <td>...</td>\n",
              "      <td>...</td>\n",
              "      <td>...</td>\n",
              "      <td>...</td>\n",
              "      <td>...</td>\n",
              "      <td>...</td>\n",
              "    </tr>\n",
              "    <tr>\n",
              "      <th>180016</th>\n",
              "      <td>220806</td>\n",
              "      <td>https://sofifa.com/player/220806/ellis-redman/...</td>\n",
              "      <td>15.0</td>\n",
              "      <td>2.0</td>\n",
              "      <td>2014-09-18</td>\n",
              "      <td>E. Redman</td>\n",
              "      <td>Ellis Redman</td>\n",
              "      <td>CB</td>\n",
              "      <td>41</td>\n",
              "      <td>61</td>\n",
              "      <td>...</td>\n",
              "      <td>38</td>\n",
              "      <td>38</td>\n",
              "      <td>38</td>\n",
              "      <td>37</td>\n",
              "      <td>40</td>\n",
              "      <td>41</td>\n",
              "      <td>41</td>\n",
              "      <td>41</td>\n",
              "      <td>40</td>\n",
              "      <td>10</td>\n",
              "    </tr>\n",
              "    <tr>\n",
              "      <th>180017</th>\n",
              "      <td>225509</td>\n",
              "      <td>https://sofifa.com/player/225509/aaron-collins...</td>\n",
              "      <td>15.0</td>\n",
              "      <td>2.0</td>\n",
              "      <td>2014-09-18</td>\n",
              "      <td>A. Collins</td>\n",
              "      <td>Aaron Graham John Collins</td>\n",
              "      <td>ST</td>\n",
              "      <td>41</td>\n",
              "      <td>50</td>\n",
              "      <td>...</td>\n",
              "      <td>30</td>\n",
              "      <td>30</td>\n",
              "      <td>30</td>\n",
              "      <td>31</td>\n",
              "      <td>32</td>\n",
              "      <td>31</td>\n",
              "      <td>31</td>\n",
              "      <td>31</td>\n",
              "      <td>32</td>\n",
              "      <td>14</td>\n",
              "    </tr>\n",
              "    <tr>\n",
              "      <th>180018</th>\n",
              "      <td>217591</td>\n",
              "      <td>https://sofifa.com/player/217591/piotr-zemlo/1...</td>\n",
              "      <td>15.0</td>\n",
              "      <td>2.0</td>\n",
              "      <td>2014-09-18</td>\n",
              "      <td>P. Żemło</td>\n",
              "      <td>Piotr Żemło</td>\n",
              "      <td>LM, LB</td>\n",
              "      <td>40</td>\n",
              "      <td>50</td>\n",
              "      <td>...</td>\n",
              "      <td>46</td>\n",
              "      <td>46</td>\n",
              "      <td>46</td>\n",
              "      <td>48</td>\n",
              "      <td>51-1</td>\n",
              "      <td>53-3</td>\n",
              "      <td>53-3</td>\n",
              "      <td>53-3</td>\n",
              "      <td>51-1</td>\n",
              "      <td>12</td>\n",
              "    </tr>\n",
              "    <tr>\n",
              "      <th>180019</th>\n",
              "      <td>222947</td>\n",
              "      <td>https://sofifa.com/player/222947/tom-davies/15...</td>\n",
              "      <td>15.0</td>\n",
              "      <td>2.0</td>\n",
              "      <td>2014-09-18</td>\n",
              "      <td>T. Davies</td>\n",
              "      <td>Thomas Christopher Davies</td>\n",
              "      <td>CB</td>\n",
              "      <td>40</td>\n",
              "      <td>49</td>\n",
              "      <td>...</td>\n",
              "      <td>36</td>\n",
              "      <td>36</td>\n",
              "      <td>36</td>\n",
              "      <td>37</td>\n",
              "      <td>39</td>\n",
              "      <td>40</td>\n",
              "      <td>40</td>\n",
              "      <td>40</td>\n",
              "      <td>39</td>\n",
              "      <td>13</td>\n",
              "    </tr>\n",
              "    <tr>\n",
              "      <th>180020</th>\n",
              "      <td>201197</td>\n",
              "      <td>https://sofifa.com/player/201197/paul-tisdale/...</td>\n",
              "      <td>15.0</td>\n",
              "      <td>2.0</td>\n",
              "      <td>2014-09-18</td>\n",
              "      <td>P. Tisdale</td>\n",
              "      <td>Paul Tisdale</td>\n",
              "      <td>CM, CAM</td>\n",
              "      <td>40</td>\n",
              "      <td>40</td>\n",
              "      <td>...</td>\n",
              "      <td>37</td>\n",
              "      <td>37</td>\n",
              "      <td>37</td>\n",
              "      <td>36</td>\n",
              "      <td>34</td>\n",
              "      <td>33</td>\n",
              "      <td>33</td>\n",
              "      <td>33</td>\n",
              "      <td>34</td>\n",
              "      <td>10</td>\n",
              "    </tr>\n",
              "  </tbody>\n",
              "</table>\n",
              "<p>180021 rows × 109 columns</p>\n",
              "</div>\n",
              "    <div class=\"colab-df-buttons\">\n",
              "\n",
              "  <div class=\"colab-df-container\">\n",
              "    <button class=\"colab-df-convert\" onclick=\"convertToInteractive('df-a2f5539b-b8dd-44c6-8316-f7c2eaa5d99f')\"\n",
              "            title=\"Convert this dataframe to an interactive table.\"\n",
              "            style=\"display:none;\">\n",
              "\n",
              "  <svg xmlns=\"http://www.w3.org/2000/svg\" height=\"24px\" viewBox=\"0 -960 960 960\">\n",
              "    <path d=\"M120-120v-720h720v720H120Zm60-500h600v-160H180v160Zm220 220h160v-160H400v160Zm0 220h160v-160H400v160ZM180-400h160v-160H180v160Zm440 0h160v-160H620v160ZM180-180h160v-160H180v160Zm440 0h160v-160H620v160Z\"/>\n",
              "  </svg>\n",
              "    </button>\n",
              "\n",
              "  <style>\n",
              "    .colab-df-container {\n",
              "      display:flex;\n",
              "      gap: 12px;\n",
              "    }\n",
              "\n",
              "    .colab-df-convert {\n",
              "      background-color: #E8F0FE;\n",
              "      border: none;\n",
              "      border-radius: 50%;\n",
              "      cursor: pointer;\n",
              "      display: none;\n",
              "      fill: #1967D2;\n",
              "      height: 32px;\n",
              "      padding: 0 0 0 0;\n",
              "      width: 32px;\n",
              "    }\n",
              "\n",
              "    .colab-df-convert:hover {\n",
              "      background-color: #E2EBFA;\n",
              "      box-shadow: 0px 1px 2px rgba(60, 64, 67, 0.3), 0px 1px 3px 1px rgba(60, 64, 67, 0.15);\n",
              "      fill: #174EA6;\n",
              "    }\n",
              "\n",
              "    .colab-df-buttons div {\n",
              "      margin-bottom: 4px;\n",
              "    }\n",
              "\n",
              "    [theme=dark] .colab-df-convert {\n",
              "      background-color: #3B4455;\n",
              "      fill: #D2E3FC;\n",
              "    }\n",
              "\n",
              "    [theme=dark] .colab-df-convert:hover {\n",
              "      background-color: #434B5C;\n",
              "      box-shadow: 0px 1px 3px 1px rgba(0, 0, 0, 0.15);\n",
              "      filter: drop-shadow(0px 1px 2px rgba(0, 0, 0, 0.3));\n",
              "      fill: #FFFFFF;\n",
              "    }\n",
              "  </style>\n",
              "\n",
              "    <script>\n",
              "      const buttonEl =\n",
              "        document.querySelector('#df-a2f5539b-b8dd-44c6-8316-f7c2eaa5d99f button.colab-df-convert');\n",
              "      buttonEl.style.display =\n",
              "        google.colab.kernel.accessAllowed ? 'block' : 'none';\n",
              "\n",
              "      async function convertToInteractive(key) {\n",
              "        const element = document.querySelector('#df-a2f5539b-b8dd-44c6-8316-f7c2eaa5d99f');\n",
              "        const dataTable =\n",
              "          await google.colab.kernel.invokeFunction('convertToInteractive',\n",
              "                                                    [key], {});\n",
              "        if (!dataTable) return;\n",
              "\n",
              "        const docLinkHtml = 'Like what you see? Visit the ' +\n",
              "          '<a target=\"_blank\" href=https://colab.research.google.com/notebooks/data_table.ipynb>data table notebook</a>'\n",
              "          + ' to learn more about interactive tables.';\n",
              "        element.innerHTML = '';\n",
              "        dataTable['output_type'] = 'display_data';\n",
              "        await google.colab.output.renderOutput(dataTable, element);\n",
              "        const docLink = document.createElement('div');\n",
              "        docLink.innerHTML = docLinkHtml;\n",
              "        element.appendChild(docLink);\n",
              "      }\n",
              "    </script>\n",
              "  </div>\n",
              "\n",
              "\n",
              "<div id=\"df-bab74107-8b2e-4f1b-ad8d-32d1dd877b0f\">\n",
              "  <button class=\"colab-df-quickchart\" onclick=\"quickchart('df-bab74107-8b2e-4f1b-ad8d-32d1dd877b0f')\"\n",
              "            title=\"Suggest charts\"\n",
              "            style=\"display:none;\">\n",
              "\n",
              "<svg xmlns=\"http://www.w3.org/2000/svg\" height=\"24px\"viewBox=\"0 0 24 24\"\n",
              "     width=\"24px\">\n",
              "    <g>\n",
              "        <path d=\"M19 3H5c-1.1 0-2 .9-2 2v14c0 1.1.9 2 2 2h14c1.1 0 2-.9 2-2V5c0-1.1-.9-2-2-2zM9 17H7v-7h2v7zm4 0h-2V7h2v10zm4 0h-2v-4h2v4z\"/>\n",
              "    </g>\n",
              "</svg>\n",
              "  </button>\n",
              "\n",
              "<style>\n",
              "  .colab-df-quickchart {\n",
              "      --bg-color: #E8F0FE;\n",
              "      --fill-color: #1967D2;\n",
              "      --hover-bg-color: #E2EBFA;\n",
              "      --hover-fill-color: #174EA6;\n",
              "      --disabled-fill-color: #AAA;\n",
              "      --disabled-bg-color: #DDD;\n",
              "  }\n",
              "\n",
              "  [theme=dark] .colab-df-quickchart {\n",
              "      --bg-color: #3B4455;\n",
              "      --fill-color: #D2E3FC;\n",
              "      --hover-bg-color: #434B5C;\n",
              "      --hover-fill-color: #FFFFFF;\n",
              "      --disabled-bg-color: #3B4455;\n",
              "      --disabled-fill-color: #666;\n",
              "  }\n",
              "\n",
              "  .colab-df-quickchart {\n",
              "    background-color: var(--bg-color);\n",
              "    border: none;\n",
              "    border-radius: 50%;\n",
              "    cursor: pointer;\n",
              "    display: none;\n",
              "    fill: var(--fill-color);\n",
              "    height: 32px;\n",
              "    padding: 0;\n",
              "    width: 32px;\n",
              "  }\n",
              "\n",
              "  .colab-df-quickchart:hover {\n",
              "    background-color: var(--hover-bg-color);\n",
              "    box-shadow: 0 1px 2px rgba(60, 64, 67, 0.3), 0 1px 3px 1px rgba(60, 64, 67, 0.15);\n",
              "    fill: var(--button-hover-fill-color);\n",
              "  }\n",
              "\n",
              "  .colab-df-quickchart-complete:disabled,\n",
              "  .colab-df-quickchart-complete:disabled:hover {\n",
              "    background-color: var(--disabled-bg-color);\n",
              "    fill: var(--disabled-fill-color);\n",
              "    box-shadow: none;\n",
              "  }\n",
              "\n",
              "  .colab-df-spinner {\n",
              "    border: 2px solid var(--fill-color);\n",
              "    border-color: transparent;\n",
              "    border-bottom-color: var(--fill-color);\n",
              "    animation:\n",
              "      spin 1s steps(1) infinite;\n",
              "  }\n",
              "\n",
              "  @keyframes spin {\n",
              "    0% {\n",
              "      border-color: transparent;\n",
              "      border-bottom-color: var(--fill-color);\n",
              "      border-left-color: var(--fill-color);\n",
              "    }\n",
              "    20% {\n",
              "      border-color: transparent;\n",
              "      border-left-color: var(--fill-color);\n",
              "      border-top-color: var(--fill-color);\n",
              "    }\n",
              "    30% {\n",
              "      border-color: transparent;\n",
              "      border-left-color: var(--fill-color);\n",
              "      border-top-color: var(--fill-color);\n",
              "      border-right-color: var(--fill-color);\n",
              "    }\n",
              "    40% {\n",
              "      border-color: transparent;\n",
              "      border-right-color: var(--fill-color);\n",
              "      border-top-color: var(--fill-color);\n",
              "    }\n",
              "    60% {\n",
              "      border-color: transparent;\n",
              "      border-right-color: var(--fill-color);\n",
              "    }\n",
              "    80% {\n",
              "      border-color: transparent;\n",
              "      border-right-color: var(--fill-color);\n",
              "      border-bottom-color: var(--fill-color);\n",
              "    }\n",
              "    90% {\n",
              "      border-color: transparent;\n",
              "      border-bottom-color: var(--fill-color);\n",
              "    }\n",
              "  }\n",
              "</style>\n",
              "\n",
              "  <script>\n",
              "    async function quickchart(key) {\n",
              "      const quickchartButtonEl =\n",
              "        document.querySelector('#' + key + ' button');\n",
              "      quickchartButtonEl.disabled = true;  // To prevent multiple clicks.\n",
              "      quickchartButtonEl.classList.add('colab-df-spinner');\n",
              "      try {\n",
              "        const charts = await google.colab.kernel.invokeFunction(\n",
              "            'suggestCharts', [key], {});\n",
              "      } catch (error) {\n",
              "        console.error('Error during call to suggestCharts:', error);\n",
              "      }\n",
              "      quickchartButtonEl.classList.remove('colab-df-spinner');\n",
              "      quickchartButtonEl.classList.add('colab-df-quickchart-complete');\n",
              "    }\n",
              "    (() => {\n",
              "      let quickchartButtonEl =\n",
              "        document.querySelector('#df-bab74107-8b2e-4f1b-ad8d-32d1dd877b0f button');\n",
              "      quickchartButtonEl.style.display =\n",
              "        google.colab.kernel.accessAllowed ? 'block' : 'none';\n",
              "    })();\n",
              "  </script>\n",
              "</div>\n",
              "    </div>\n",
              "  </div>\n"
            ],
            "application/vnd.google.colaboratory.intrinsic+json": {
              "type": "dataframe",
              "variable_name": "big_df"
            }
          },
          "metadata": {},
          "execution_count": 17
        }
      ]
    },
    {
      "cell_type": "code",
      "source": [
        "big_df = big_df[[\n",
        "    'player_id', 'player_url', 'fifa_version',\n",
        "    'fifa_update', 'update_as_of', 'short_name',\n",
        "    'long_name', 'player_positions', 'overall',\n",
        "    'potential'\n",
        "]]\n",
        "big_df"
      ],
      "metadata": {
        "colab": {
          "base_uri": "https://localhost:8080/",
          "height": 667
        },
        "id": "I4OGcKkGhU2K",
        "outputId": "eb3960f8-0975-437d-e48a-427f4b1ad064"
      },
      "execution_count": null,
      "outputs": [
        {
          "output_type": "execute_result",
          "data": {
            "text/plain": [
              "        player_id                                         player_url  \\\n",
              "0          231747                /player/231747/kylian-mbappe/240002   \n",
              "1          239085               /player/239085/erling-haaland/240002   \n",
              "2          192985              /player/192985/kevin-de-bruyne/240002   \n",
              "3          158023                 /player/158023/lionel-messi/240002   \n",
              "4          165153                /player/165153/karim-benzema/240002   \n",
              "...           ...                                                ...   \n",
              "180016     220806  https://sofifa.com/player/220806/ellis-redman/...   \n",
              "180017     225509  https://sofifa.com/player/225509/aaron-collins...   \n",
              "180018     217591  https://sofifa.com/player/217591/piotr-zemlo/1...   \n",
              "180019     222947  https://sofifa.com/player/222947/tom-davies/15...   \n",
              "180020     201197  https://sofifa.com/player/201197/paul-tisdale/...   \n",
              "\n",
              "        fifa_version  fifa_update update_as_of    short_name  \\\n",
              "0               24.0          2.0   2023-09-22     K. Mbappé   \n",
              "1               24.0          2.0   2023-09-22    E. Haaland   \n",
              "2               24.0          2.0   2023-09-22  K. De Bruyne   \n",
              "3               24.0          2.0   2023-09-22      L. Messi   \n",
              "4               24.0          2.0   2023-09-22    K. Benzema   \n",
              "...              ...          ...          ...           ...   \n",
              "180016          15.0          2.0   2014-09-18     E. Redman   \n",
              "180017          15.0          2.0   2014-09-18    A. Collins   \n",
              "180018          15.0          2.0   2014-09-18      P. Żemło   \n",
              "180019          15.0          2.0   2014-09-18     T. Davies   \n",
              "180020          15.0          2.0   2014-09-18    P. Tisdale   \n",
              "\n",
              "                             long_name player_positions  overall  potential  \n",
              "0                 Kylian Mbappé Lottin           ST, LW       91         94  \n",
              "1                 Erling Braut Haaland               ST       91         94  \n",
              "2                      Kevin De Bruyne          CM, CAM       91         91  \n",
              "3       Lionel Andrés Messi Cuccittini          CF, CAM       90         90  \n",
              "4                        Karim Benzema           CF, ST       90         90  \n",
              "...                                ...              ...      ...        ...  \n",
              "180016                    Ellis Redman               CB       41         61  \n",
              "180017       Aaron Graham John Collins               ST       41         50  \n",
              "180018                     Piotr Żemło           LM, LB       40         50  \n",
              "180019       Thomas Christopher Davies               CB       40         49  \n",
              "180020                    Paul Tisdale          CM, CAM       40         40  \n",
              "\n",
              "[180021 rows x 10 columns]"
            ],
            "text/html": [
              "\n",
              "  <div id=\"df-177bb3f0-32a1-4bed-b80e-bba8ba6d4df8\" class=\"colab-df-container\">\n",
              "    <div>\n",
              "<style scoped>\n",
              "    .dataframe tbody tr th:only-of-type {\n",
              "        vertical-align: middle;\n",
              "    }\n",
              "\n",
              "    .dataframe tbody tr th {\n",
              "        vertical-align: top;\n",
              "    }\n",
              "\n",
              "    .dataframe thead th {\n",
              "        text-align: right;\n",
              "    }\n",
              "</style>\n",
              "<table border=\"1\" class=\"dataframe\">\n",
              "  <thead>\n",
              "    <tr style=\"text-align: right;\">\n",
              "      <th></th>\n",
              "      <th>player_id</th>\n",
              "      <th>player_url</th>\n",
              "      <th>fifa_version</th>\n",
              "      <th>fifa_update</th>\n",
              "      <th>update_as_of</th>\n",
              "      <th>short_name</th>\n",
              "      <th>long_name</th>\n",
              "      <th>player_positions</th>\n",
              "      <th>overall</th>\n",
              "      <th>potential</th>\n",
              "    </tr>\n",
              "  </thead>\n",
              "  <tbody>\n",
              "    <tr>\n",
              "      <th>0</th>\n",
              "      <td>231747</td>\n",
              "      <td>/player/231747/kylian-mbappe/240002</td>\n",
              "      <td>24.0</td>\n",
              "      <td>2.0</td>\n",
              "      <td>2023-09-22</td>\n",
              "      <td>K. Mbappé</td>\n",
              "      <td>Kylian Mbappé Lottin</td>\n",
              "      <td>ST, LW</td>\n",
              "      <td>91</td>\n",
              "      <td>94</td>\n",
              "    </tr>\n",
              "    <tr>\n",
              "      <th>1</th>\n",
              "      <td>239085</td>\n",
              "      <td>/player/239085/erling-haaland/240002</td>\n",
              "      <td>24.0</td>\n",
              "      <td>2.0</td>\n",
              "      <td>2023-09-22</td>\n",
              "      <td>E. Haaland</td>\n",
              "      <td>Erling Braut Haaland</td>\n",
              "      <td>ST</td>\n",
              "      <td>91</td>\n",
              "      <td>94</td>\n",
              "    </tr>\n",
              "    <tr>\n",
              "      <th>2</th>\n",
              "      <td>192985</td>\n",
              "      <td>/player/192985/kevin-de-bruyne/240002</td>\n",
              "      <td>24.0</td>\n",
              "      <td>2.0</td>\n",
              "      <td>2023-09-22</td>\n",
              "      <td>K. De Bruyne</td>\n",
              "      <td>Kevin De Bruyne</td>\n",
              "      <td>CM, CAM</td>\n",
              "      <td>91</td>\n",
              "      <td>91</td>\n",
              "    </tr>\n",
              "    <tr>\n",
              "      <th>3</th>\n",
              "      <td>158023</td>\n",
              "      <td>/player/158023/lionel-messi/240002</td>\n",
              "      <td>24.0</td>\n",
              "      <td>2.0</td>\n",
              "      <td>2023-09-22</td>\n",
              "      <td>L. Messi</td>\n",
              "      <td>Lionel Andrés Messi Cuccittini</td>\n",
              "      <td>CF, CAM</td>\n",
              "      <td>90</td>\n",
              "      <td>90</td>\n",
              "    </tr>\n",
              "    <tr>\n",
              "      <th>4</th>\n",
              "      <td>165153</td>\n",
              "      <td>/player/165153/karim-benzema/240002</td>\n",
              "      <td>24.0</td>\n",
              "      <td>2.0</td>\n",
              "      <td>2023-09-22</td>\n",
              "      <td>K. Benzema</td>\n",
              "      <td>Karim Benzema</td>\n",
              "      <td>CF, ST</td>\n",
              "      <td>90</td>\n",
              "      <td>90</td>\n",
              "    </tr>\n",
              "    <tr>\n",
              "      <th>...</th>\n",
              "      <td>...</td>\n",
              "      <td>...</td>\n",
              "      <td>...</td>\n",
              "      <td>...</td>\n",
              "      <td>...</td>\n",
              "      <td>...</td>\n",
              "      <td>...</td>\n",
              "      <td>...</td>\n",
              "      <td>...</td>\n",
              "      <td>...</td>\n",
              "    </tr>\n",
              "    <tr>\n",
              "      <th>180016</th>\n",
              "      <td>220806</td>\n",
              "      <td>https://sofifa.com/player/220806/ellis-redman/...</td>\n",
              "      <td>15.0</td>\n",
              "      <td>2.0</td>\n",
              "      <td>2014-09-18</td>\n",
              "      <td>E. Redman</td>\n",
              "      <td>Ellis Redman</td>\n",
              "      <td>CB</td>\n",
              "      <td>41</td>\n",
              "      <td>61</td>\n",
              "    </tr>\n",
              "    <tr>\n",
              "      <th>180017</th>\n",
              "      <td>225509</td>\n",
              "      <td>https://sofifa.com/player/225509/aaron-collins...</td>\n",
              "      <td>15.0</td>\n",
              "      <td>2.0</td>\n",
              "      <td>2014-09-18</td>\n",
              "      <td>A. Collins</td>\n",
              "      <td>Aaron Graham John Collins</td>\n",
              "      <td>ST</td>\n",
              "      <td>41</td>\n",
              "      <td>50</td>\n",
              "    </tr>\n",
              "    <tr>\n",
              "      <th>180018</th>\n",
              "      <td>217591</td>\n",
              "      <td>https://sofifa.com/player/217591/piotr-zemlo/1...</td>\n",
              "      <td>15.0</td>\n",
              "      <td>2.0</td>\n",
              "      <td>2014-09-18</td>\n",
              "      <td>P. Żemło</td>\n",
              "      <td>Piotr Żemło</td>\n",
              "      <td>LM, LB</td>\n",
              "      <td>40</td>\n",
              "      <td>50</td>\n",
              "    </tr>\n",
              "    <tr>\n",
              "      <th>180019</th>\n",
              "      <td>222947</td>\n",
              "      <td>https://sofifa.com/player/222947/tom-davies/15...</td>\n",
              "      <td>15.0</td>\n",
              "      <td>2.0</td>\n",
              "      <td>2014-09-18</td>\n",
              "      <td>T. Davies</td>\n",
              "      <td>Thomas Christopher Davies</td>\n",
              "      <td>CB</td>\n",
              "      <td>40</td>\n",
              "      <td>49</td>\n",
              "    </tr>\n",
              "    <tr>\n",
              "      <th>180020</th>\n",
              "      <td>201197</td>\n",
              "      <td>https://sofifa.com/player/201197/paul-tisdale/...</td>\n",
              "      <td>15.0</td>\n",
              "      <td>2.0</td>\n",
              "      <td>2014-09-18</td>\n",
              "      <td>P. Tisdale</td>\n",
              "      <td>Paul Tisdale</td>\n",
              "      <td>CM, CAM</td>\n",
              "      <td>40</td>\n",
              "      <td>40</td>\n",
              "    </tr>\n",
              "  </tbody>\n",
              "</table>\n",
              "<p>180021 rows × 10 columns</p>\n",
              "</div>\n",
              "    <div class=\"colab-df-buttons\">\n",
              "\n",
              "  <div class=\"colab-df-container\">\n",
              "    <button class=\"colab-df-convert\" onclick=\"convertToInteractive('df-177bb3f0-32a1-4bed-b80e-bba8ba6d4df8')\"\n",
              "            title=\"Convert this dataframe to an interactive table.\"\n",
              "            style=\"display:none;\">\n",
              "\n",
              "  <svg xmlns=\"http://www.w3.org/2000/svg\" height=\"24px\" viewBox=\"0 -960 960 960\">\n",
              "    <path d=\"M120-120v-720h720v720H120Zm60-500h600v-160H180v160Zm220 220h160v-160H400v160Zm0 220h160v-160H400v160ZM180-400h160v-160H180v160Zm440 0h160v-160H620v160ZM180-180h160v-160H180v160Zm440 0h160v-160H620v160Z\"/>\n",
              "  </svg>\n",
              "    </button>\n",
              "\n",
              "  <style>\n",
              "    .colab-df-container {\n",
              "      display:flex;\n",
              "      gap: 12px;\n",
              "    }\n",
              "\n",
              "    .colab-df-convert {\n",
              "      background-color: #E8F0FE;\n",
              "      border: none;\n",
              "      border-radius: 50%;\n",
              "      cursor: pointer;\n",
              "      display: none;\n",
              "      fill: #1967D2;\n",
              "      height: 32px;\n",
              "      padding: 0 0 0 0;\n",
              "      width: 32px;\n",
              "    }\n",
              "\n",
              "    .colab-df-convert:hover {\n",
              "      background-color: #E2EBFA;\n",
              "      box-shadow: 0px 1px 2px rgba(60, 64, 67, 0.3), 0px 1px 3px 1px rgba(60, 64, 67, 0.15);\n",
              "      fill: #174EA6;\n",
              "    }\n",
              "\n",
              "    .colab-df-buttons div {\n",
              "      margin-bottom: 4px;\n",
              "    }\n",
              "\n",
              "    [theme=dark] .colab-df-convert {\n",
              "      background-color: #3B4455;\n",
              "      fill: #D2E3FC;\n",
              "    }\n",
              "\n",
              "    [theme=dark] .colab-df-convert:hover {\n",
              "      background-color: #434B5C;\n",
              "      box-shadow: 0px 1px 3px 1px rgba(0, 0, 0, 0.15);\n",
              "      filter: drop-shadow(0px 1px 2px rgba(0, 0, 0, 0.3));\n",
              "      fill: #FFFFFF;\n",
              "    }\n",
              "  </style>\n",
              "\n",
              "    <script>\n",
              "      const buttonEl =\n",
              "        document.querySelector('#df-177bb3f0-32a1-4bed-b80e-bba8ba6d4df8 button.colab-df-convert');\n",
              "      buttonEl.style.display =\n",
              "        google.colab.kernel.accessAllowed ? 'block' : 'none';\n",
              "\n",
              "      async function convertToInteractive(key) {\n",
              "        const element = document.querySelector('#df-177bb3f0-32a1-4bed-b80e-bba8ba6d4df8');\n",
              "        const dataTable =\n",
              "          await google.colab.kernel.invokeFunction('convertToInteractive',\n",
              "                                                    [key], {});\n",
              "        if (!dataTable) return;\n",
              "\n",
              "        const docLinkHtml = 'Like what you see? Visit the ' +\n",
              "          '<a target=\"_blank\" href=https://colab.research.google.com/notebooks/data_table.ipynb>data table notebook</a>'\n",
              "          + ' to learn more about interactive tables.';\n",
              "        element.innerHTML = '';\n",
              "        dataTable['output_type'] = 'display_data';\n",
              "        await google.colab.output.renderOutput(dataTable, element);\n",
              "        const docLink = document.createElement('div');\n",
              "        docLink.innerHTML = docLinkHtml;\n",
              "        element.appendChild(docLink);\n",
              "      }\n",
              "    </script>\n",
              "  </div>\n",
              "\n",
              "\n",
              "<div id=\"df-06557b0e-d50f-449a-b38a-5af34420e7ca\">\n",
              "  <button class=\"colab-df-quickchart\" onclick=\"quickchart('df-06557b0e-d50f-449a-b38a-5af34420e7ca')\"\n",
              "            title=\"Suggest charts\"\n",
              "            style=\"display:none;\">\n",
              "\n",
              "<svg xmlns=\"http://www.w3.org/2000/svg\" height=\"24px\"viewBox=\"0 0 24 24\"\n",
              "     width=\"24px\">\n",
              "    <g>\n",
              "        <path d=\"M19 3H5c-1.1 0-2 .9-2 2v14c0 1.1.9 2 2 2h14c1.1 0 2-.9 2-2V5c0-1.1-.9-2-2-2zM9 17H7v-7h2v7zm4 0h-2V7h2v10zm4 0h-2v-4h2v4z\"/>\n",
              "    </g>\n",
              "</svg>\n",
              "  </button>\n",
              "\n",
              "<style>\n",
              "  .colab-df-quickchart {\n",
              "      --bg-color: #E8F0FE;\n",
              "      --fill-color: #1967D2;\n",
              "      --hover-bg-color: #E2EBFA;\n",
              "      --hover-fill-color: #174EA6;\n",
              "      --disabled-fill-color: #AAA;\n",
              "      --disabled-bg-color: #DDD;\n",
              "  }\n",
              "\n",
              "  [theme=dark] .colab-df-quickchart {\n",
              "      --bg-color: #3B4455;\n",
              "      --fill-color: #D2E3FC;\n",
              "      --hover-bg-color: #434B5C;\n",
              "      --hover-fill-color: #FFFFFF;\n",
              "      --disabled-bg-color: #3B4455;\n",
              "      --disabled-fill-color: #666;\n",
              "  }\n",
              "\n",
              "  .colab-df-quickchart {\n",
              "    background-color: var(--bg-color);\n",
              "    border: none;\n",
              "    border-radius: 50%;\n",
              "    cursor: pointer;\n",
              "    display: none;\n",
              "    fill: var(--fill-color);\n",
              "    height: 32px;\n",
              "    padding: 0;\n",
              "    width: 32px;\n",
              "  }\n",
              "\n",
              "  .colab-df-quickchart:hover {\n",
              "    background-color: var(--hover-bg-color);\n",
              "    box-shadow: 0 1px 2px rgba(60, 64, 67, 0.3), 0 1px 3px 1px rgba(60, 64, 67, 0.15);\n",
              "    fill: var(--button-hover-fill-color);\n",
              "  }\n",
              "\n",
              "  .colab-df-quickchart-complete:disabled,\n",
              "  .colab-df-quickchart-complete:disabled:hover {\n",
              "    background-color: var(--disabled-bg-color);\n",
              "    fill: var(--disabled-fill-color);\n",
              "    box-shadow: none;\n",
              "  }\n",
              "\n",
              "  .colab-df-spinner {\n",
              "    border: 2px solid var(--fill-color);\n",
              "    border-color: transparent;\n",
              "    border-bottom-color: var(--fill-color);\n",
              "    animation:\n",
              "      spin 1s steps(1) infinite;\n",
              "  }\n",
              "\n",
              "  @keyframes spin {\n",
              "    0% {\n",
              "      border-color: transparent;\n",
              "      border-bottom-color: var(--fill-color);\n",
              "      border-left-color: var(--fill-color);\n",
              "    }\n",
              "    20% {\n",
              "      border-color: transparent;\n",
              "      border-left-color: var(--fill-color);\n",
              "      border-top-color: var(--fill-color);\n",
              "    }\n",
              "    30% {\n",
              "      border-color: transparent;\n",
              "      border-left-color: var(--fill-color);\n",
              "      border-top-color: var(--fill-color);\n",
              "      border-right-color: var(--fill-color);\n",
              "    }\n",
              "    40% {\n",
              "      border-color: transparent;\n",
              "      border-right-color: var(--fill-color);\n",
              "      border-top-color: var(--fill-color);\n",
              "    }\n",
              "    60% {\n",
              "      border-color: transparent;\n",
              "      border-right-color: var(--fill-color);\n",
              "    }\n",
              "    80% {\n",
              "      border-color: transparent;\n",
              "      border-right-color: var(--fill-color);\n",
              "      border-bottom-color: var(--fill-color);\n",
              "    }\n",
              "    90% {\n",
              "      border-color: transparent;\n",
              "      border-bottom-color: var(--fill-color);\n",
              "    }\n",
              "  }\n",
              "</style>\n",
              "\n",
              "  <script>\n",
              "    async function quickchart(key) {\n",
              "      const quickchartButtonEl =\n",
              "        document.querySelector('#' + key + ' button');\n",
              "      quickchartButtonEl.disabled = true;  // To prevent multiple clicks.\n",
              "      quickchartButtonEl.classList.add('colab-df-spinner');\n",
              "      try {\n",
              "        const charts = await google.colab.kernel.invokeFunction(\n",
              "            'suggestCharts', [key], {});\n",
              "      } catch (error) {\n",
              "        console.error('Error during call to suggestCharts:', error);\n",
              "      }\n",
              "      quickchartButtonEl.classList.remove('colab-df-spinner');\n",
              "      quickchartButtonEl.classList.add('colab-df-quickchart-complete');\n",
              "    }\n",
              "    (() => {\n",
              "      let quickchartButtonEl =\n",
              "        document.querySelector('#df-06557b0e-d50f-449a-b38a-5af34420e7ca button');\n",
              "      quickchartButtonEl.style.display =\n",
              "        google.colab.kernel.accessAllowed ? 'block' : 'none';\n",
              "    })();\n",
              "  </script>\n",
              "</div>\n",
              "    </div>\n",
              "  </div>\n"
            ],
            "application/vnd.google.colaboratory.intrinsic+json": {
              "type": "dataframe",
              "variable_name": "big_df"
            }
          },
          "metadata": {},
          "execution_count": 18
        }
      ]
    },
    {
      "cell_type": "code",
      "source": [
        "big_df.to_csv('big_df.csv', index=False)"
      ],
      "metadata": {
        "id": "mSJoisG0i2JY"
      },
      "execution_count": null,
      "outputs": []
    },
    {
      "cell_type": "code",
      "source": [
        "!wc -c big_df.csv"
      ],
      "metadata": {
        "colab": {
          "base_uri": "https://localhost:8080/"
        },
        "id": "jgXA7IVnhruw",
        "outputId": "40bbf8cc-b27a-4f77-9f28-87fae15a6590"
      },
      "execution_count": null,
      "outputs": [
        {
          "output_type": "stream",
          "name": "stdout",
          "text": [
            "22145807 big_df.csv\n"
          ]
        }
      ]
    },
    {
      "cell_type": "code",
      "source": [
        "big_df.to_json('big_df.json')"
      ],
      "metadata": {
        "id": "1RAdsPiwkEiG"
      },
      "execution_count": null,
      "outputs": []
    },
    {
      "cell_type": "code",
      "source": [
        "!wc -c big_df.json"
      ],
      "metadata": {
        "colab": {
          "base_uri": "https://localhost:8080/"
        },
        "id": "ICMhQs6qkK2n",
        "outputId": "74796f4f-f3c9-49e4-9e7d-1df4cdbe93c4"
      },
      "execution_count": null,
      "outputs": [
        {
          "output_type": "stream",
          "name": "stdout",
          "text": [
            "40418168 big_df.json\n"
          ]
        }
      ]
    },
    {
      "cell_type": "code",
      "source": [
        "big_df.columns"
      ],
      "metadata": {
        "colab": {
          "base_uri": "https://localhost:8080/"
        },
        "id": "5L6SAo5ykA1C",
        "outputId": "3f9e61b2-7c10-4a09-f15d-0bd45e7f3326"
      },
      "execution_count": null,
      "outputs": [
        {
          "output_type": "execute_result",
          "data": {
            "text/plain": [
              "Index(['player_id', 'player_url', 'fifa_version', 'fifa_update',\n",
              "       'update_as_of', 'short_name', 'long_name', 'player_positions',\n",
              "       'overall', 'potential'],\n",
              "      dtype='object')"
            ]
          },
          "metadata": {},
          "execution_count": 23
        }
      ]
    },
    {
      "cell_type": "code",
      "source": [
        "schema_new = {\n",
        "    'name': 'avro.example.Player',\n",
        "    'type': 'record',\n",
        "    'fields': [\n",
        "        {'name': 'player_id', 'type': 'int'},\n",
        "        {'name': 'player_url', 'type': 'string'},\n",
        "        {'name': 'fifa_version', 'type': 'float'},\n",
        "        {'name': 'fifa_update', 'type': 'float'},\n",
        "        {'name': 'update_as_of', 'type': 'string'},\n",
        "        {'name': 'short_name', 'type': 'string'},\n",
        "        {'name': 'long_name', 'type': 'string'},\n",
        "        {'name': 'player_positions', 'type': 'string'},\n",
        "        {'name': 'overall', 'type': 'int'},\n",
        "        {'name': 'potential', 'type': 'int'},\n",
        "    ]\n",
        "}"
      ],
      "metadata": {
        "id": "mylQQzM2i9Mr"
      },
      "execution_count": null,
      "outputs": []
    },
    {
      "cell_type": "code",
      "source": [
        "with open('players.avro', 'wb') as f:\n",
        "    writer = DataFileWriter(f, DatumWriter(), avro.schema.Parse(json.dumps(schema_new)))\n",
        "    for index, row in big_df.iterrows():\n",
        "        writer.append({i: row[i] for i in big_df.columns})\n",
        "    writer.close()\n",
        "\n"
      ],
      "metadata": {
        "id": "E6tdsyIBlgDy"
      },
      "execution_count": null,
      "outputs": []
    },
    {
      "cell_type": "code",
      "source": [
        "!wc -c players.avro"
      ],
      "metadata": {
        "colab": {
          "base_uri": "https://localhost:8080/"
        },
        "id": "AjrNIwANl_sS",
        "outputId": "6d95eae7-3390-4f22-c45a-5cafa0ea3494"
      },
      "execution_count": null,
      "outputs": [
        {
          "output_type": "stream",
          "name": "stdout",
          "text": [
            "20665547 players.avro\n"
          ]
        }
      ]
    },
    {
      "cell_type": "code",
      "source": [
        "big_df.to_parquet('players_raw.parquet', compression=None)"
      ],
      "metadata": {
        "id": "0EzVU6KUdfyR"
      },
      "execution_count": null,
      "outputs": []
    },
    {
      "cell_type": "code",
      "source": [
        "!wc -c players_raw.parquet"
      ],
      "metadata": {
        "colab": {
          "base_uri": "https://localhost:8080/"
        },
        "id": "33P1QchKexSo",
        "outputId": "fa9e07b1-1379-4a7d-c1d6-030edc5ad14b"
      },
      "execution_count": null,
      "outputs": [
        {
          "output_type": "stream",
          "name": "stdout",
          "text": [
            "14191645 players_raw.parquet\n"
          ]
        }
      ]
    },
    {
      "cell_type": "code",
      "source": [
        "big_df.to_parquet('players.parquet')"
      ],
      "metadata": {
        "id": "MtVCCC-dmM5t"
      },
      "execution_count": null,
      "outputs": []
    },
    {
      "cell_type": "code",
      "source": [
        "!wc -c players.parquet"
      ],
      "metadata": {
        "colab": {
          "base_uri": "https://localhost:8080/"
        },
        "id": "JhbmZVVHqGpg",
        "outputId": "522e55fa-e1f6-4089-e849-9e763e5397ea"
      },
      "execution_count": null,
      "outputs": [
        {
          "output_type": "stream",
          "name": "stdout",
          "text": [
            "7388563 players.parquet\n"
          ]
        }
      ]
    }
  ]
}