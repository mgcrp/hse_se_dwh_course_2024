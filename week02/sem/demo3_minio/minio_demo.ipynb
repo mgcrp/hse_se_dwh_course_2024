{
 "cells": [
  {
   "cell_type": "code",
   "execution_count": null,
   "id": "5a41e136",
   "metadata": {},
   "outputs": [],
   "source": [
    "%pip install minio"
   ]
  },
  {
   "cell_type": "code",
   "execution_count": 1,
   "id": "109ce391",
   "metadata": {},
   "outputs": [],
   "source": [
    "MINIO_HOST = 'localhost'\n",
    "MINIO_ACCESS_KEY = 'admin'\n",
    "MINIO_SECRET_KEY = 'admin1234'"
   ]
  },
  {
   "cell_type": "code",
   "execution_count": 3,
   "id": "ff48a1ce",
   "metadata": {},
   "outputs": [],
   "source": [
    "from minio import Minio\n",
    "\n",
    "minio_client = Minio(\n",
    "    f\"{MINIO_HOST}:9000\",\n",
    "    access_key=MINIO_ACCESS_KEY,\n",
    "    secret_key=MINIO_SECRET_KEY,\n",
    "    secure=False\n",
    ")"
   ]
  },
  {
   "cell_type": "code",
   "execution_count": 5,
   "id": "d53fa264",
   "metadata": {},
   "outputs": [
    {
     "data": {
      "text/plain": [
       "False"
      ]
     },
     "execution_count": 5,
     "metadata": {},
     "output_type": "execute_result"
    }
   ],
   "source": [
    "minio_client.bucket_exists('user-pics')"
   ]
  },
  {
   "cell_type": "code",
   "execution_count": 7,
   "id": "f0da1b16",
   "metadata": {},
   "outputs": [],
   "source": [
    "if not minio_client.bucket_exists('user-pics'):\n",
    "    minio_client.make_bucket('user-pics')"
   ]
  },
  {
   "cell_type": "code",
   "execution_count": 9,
   "id": "90b5ea8c",
   "metadata": {},
   "outputs": [
    {
     "data": {
      "text/plain": [
       "True"
      ]
     },
     "execution_count": 9,
     "metadata": {},
     "output_type": "execute_result"
    }
   ],
   "source": [
    "minio_client.bucket_exists('user-pics')"
   ]
  },
  {
   "cell_type": "code",
   "execution_count": 11,
   "id": "d9974328",
   "metadata": {},
   "outputs": [
    {
     "data": {
      "text/plain": [
       "[Bucket('user-pics')]"
      ]
     },
     "execution_count": 11,
     "metadata": {},
     "output_type": "execute_result"
    }
   ],
   "source": [
    "minio_client.list_buckets()"
   ]
  },
  {
   "cell_type": "markdown",
   "id": "6966391b",
   "metadata": {},
   "source": [
    "---"
   ]
  },
  {
   "cell_type": "code",
   "execution_count": 13,
   "id": "73412b44",
   "metadata": {},
   "outputs": [],
   "source": [
    "import io"
   ]
  },
  {
   "cell_type": "code",
   "execution_count": 15,
   "id": "5655feab",
   "metadata": {},
   "outputs": [
    {
     "name": "stdout",
     "output_type": "stream",
     "text": [
      "created cat.jpg object; etag: 9563277ca4f0c8833911b2b70eb3fcec, version-id: None\n"
     ]
    }
   ],
   "source": [
    "with open('cat.jpg', 'rb') as f:\n",
    "    data = io.BytesIO(f.read())\n",
    "\n",
    "result = minio_client.put_object(\n",
    "    bucket_name='user-pics',\n",
    "    object_name='cat.jpg',\n",
    "    data=data,\n",
    "    length=-1,\n",
    "    part_size=5*1024*1024\n",
    ")\n",
    "print(\n",
    "    f'created {result.object_name} object; etag: {result.etag}, version-id: {result.version_id}'\n",
    ")"
   ]
  },
  {
   "cell_type": "code",
   "execution_count": 17,
   "id": "d998818d",
   "metadata": {},
   "outputs": [
    {
     "data": {
      "text/plain": [
       "0"
      ]
     },
     "execution_count": 17,
     "metadata": {},
     "output_type": "execute_result"
    }
   ],
   "source": [
    "data.seek(0)"
   ]
  },
  {
   "cell_type": "code",
   "execution_count": 19,
   "id": "a5424923",
   "metadata": {},
   "outputs": [
    {
     "name": "stdout",
     "output_type": "stream",
     "text": [
      "created cat_meta.jpg object; etag: 9563277ca4f0c8833911b2b70eb3fcec, version-id: None\n"
     ]
    }
   ],
   "source": [
    "result = minio_client.put_object(\n",
    "    bucket_name='user-pics',\n",
    "    object_name='cat_meta.jpg',\n",
    "    data=data,\n",
    "    length=-1,\n",
    "    part_size=5*1024*1024,\n",
    "    metadata={'creationPlace': 'Moscow, Russia'}\n",
    ")\n",
    "print(\n",
    "    f'created {result.object_name} object; etag: {result.etag}, version-id: {result.version_id}'\n",
    ")"
   ]
  },
  {
   "cell_type": "code",
   "execution_count": 21,
   "id": "b7b43afa",
   "metadata": {},
   "outputs": [],
   "source": [
    "from datetime import datetime, timedelta\n",
    "from minio.retention import Retention\n",
    "from minio.commonconfig import GOVERNANCE, Tags"
   ]
  },
  {
   "cell_type": "code",
   "execution_count": 23,
   "id": "447fa69e",
   "metadata": {},
   "outputs": [
    {
     "data": {
      "text/plain": [
       "0"
      ]
     },
     "execution_count": 23,
     "metadata": {},
     "output_type": "execute_result"
    }
   ],
   "source": [
    "data.seek(0)"
   ]
  },
  {
   "cell_type": "code",
   "execution_count": 25,
   "id": "bc74b735",
   "metadata": {},
   "outputs": [
    {
     "name": "stdout",
     "output_type": "stream",
     "text": [
      "created cat_tags.jpg object; etag: 9563277ca4f0c8833911b2b70eb3fcec, version-id: None\n"
     ]
    }
   ],
   "source": [
    "# date = datetime.utcnow().replace(\n",
    "#     hour=0, minute=0, second=0, microsecond=0,\n",
    "# ) + timedelta(days=30)\n",
    "\n",
    "tags = Tags(for_object=True)\n",
    "tags['usergroup'] = 'teacher'\n",
    "\n",
    "result = minio_client.put_object(\n",
    "    bucket_name='user-pics',\n",
    "    object_name='cat_tags.jpg',\n",
    "    data=data,\n",
    "    length=-1,\n",
    "    part_size=5*1024*1024,\n",
    "    metadata={'creationPlace': 'Moscow, Russia'},\n",
    "    tags=tags,\n",
    ")\n",
    "\n",
    "print(\n",
    "    f'created {result.object_name} object; etag: {result.etag}, version-id: {result.version_id}'\n",
    ")"
   ]
  },
  {
   "cell_type": "markdown",
   "id": "66112f60",
   "metadata": {},
   "source": [
    "---"
   ]
  },
  {
   "cell_type": "code",
   "execution_count": 28,
   "id": "21b7479e",
   "metadata": {},
   "outputs": [],
   "source": [
    "import json"
   ]
  },
  {
   "cell_type": "code",
   "execution_count": null,
   "id": "cf875328",
   "metadata": {},
   "outputs": [],
   "source": [
    "http://localhost:9000/user-pics/cat.jpg"
   ]
  },
  {
   "cell_type": "code",
   "execution_count": null,
   "id": "07078efd",
   "metadata": {},
   "outputs": [],
   "source": [
    "minio_client.get_bucket_policy('user-pics')"
   ]
  },
  {
   "cell_type": "code",
   "execution_count": 27,
   "id": "fad566d0",
   "metadata": {},
   "outputs": [],
   "source": [
    "# https://awspolicygen.s3.amazonaws.com/policygen.html\n",
    "\n",
    "policy = {\n",
    "  \"Version\": \"2012-10-17\",\n",
    "  \"Statement\": [\n",
    "    {\n",
    "      \"Action\": [\n",
    "        \"s3:GetObject\"\n",
    "      ],\n",
    "      \"Effect\": \"Allow\",\n",
    "      \"Resource\": \"arn:aws:s3:::user-pics/*\",\n",
    "      \"Principal\": {\"AWS\": \"*\"}\n",
    "    }\n",
    "  ]\n",
    "}\n",
    "\n",
    "minio_client.set_bucket_policy('user-pics', json.dumps(policy))"
   ]
  },
  {
   "cell_type": "code",
   "execution_count": 29,
   "id": "5feec732",
   "metadata": {},
   "outputs": [
    {
     "data": {
      "text/plain": [
       "'{\"Version\":\"2012-10-17\",\"Statement\":[{\"Effect\":\"Allow\",\"Principal\":{\"AWS\":[\"*\"]},\"Action\":[\"s3:GetObject\"],\"Resource\":[\"arn:aws:s3:::user-pics/*\"]}]}'"
      ]
     },
     "execution_count": 29,
     "metadata": {},
     "output_type": "execute_result"
    }
   ],
   "source": [
    "minio_client.get_bucket_policy('user-pics')"
   ]
  },
  {
   "cell_type": "markdown",
   "id": "32078551",
   "metadata": {},
   "source": [
    "---"
   ]
  },
  {
   "cell_type": "code",
   "execution_count": 40,
   "id": "20394155",
   "metadata": {},
   "outputs": [],
   "source": [
    "from minio.commonconfig import SnowballObject"
   ]
  },
  {
   "cell_type": "code",
   "execution_count": null,
   "id": "78bb77ad",
   "metadata": {},
   "outputs": [],
   "source": [
    "data.seek(0)\n",
    "with open('dog.jpeg', 'rb') as f:\n",
    "    data_dog = io.BytesIO(f.read())\n",
    "\n",
    "minio_client.upload_snowball_objects(\n",
    "    'user-pics',\n",
    "    [\n",
    "        SnowballObject('many_dog.jpeg', data=data_dog, length=-1),\n",
    "        SnowballObject('many_cat.jpeg', data=data, length=-1)\n",
    "    ],\n",
    ")"
   ]
  },
  {
   "cell_type": "markdown",
   "id": "5b9a50bd",
   "metadata": {},
   "source": [
    "---"
   ]
  },
  {
   "cell_type": "code",
   "execution_count": 31,
   "id": "b015555f",
   "metadata": {},
   "outputs": [
    {
     "name": "stdout",
     "output_type": "stream",
     "text": [
      "cat.jpg\n",
      "cat_meta.jpg\n",
      "cat_tags.jpg\n"
     ]
    }
   ],
   "source": [
    "for i in minio_client.list_objects('user-pics'):\n",
    "    print(i.object_name)"
   ]
  },
  {
   "cell_type": "code",
   "execution_count": 33,
   "id": "b59be7c1",
   "metadata": {},
   "outputs": [],
   "source": [
    "for i in minio_client.list_objects('user-pics'):\n",
    "    minio_client.remove_object('user-pics', i.object_name)"
   ]
  },
  {
   "cell_type": "code",
   "execution_count": 35,
   "id": "3eb7949f",
   "metadata": {},
   "outputs": [],
   "source": [
    "for i in minio_client.list_objects('user-pics'):\n",
    "    print(i.object_name)"
   ]
  },
  {
   "cell_type": "markdown",
   "id": "df297231",
   "metadata": {},
   "source": [
    "---"
   ]
  },
  {
   "cell_type": "code",
   "execution_count": 38,
   "id": "062fd48d",
   "metadata": {},
   "outputs": [],
   "source": [
    "minio_client.remove_bucket('user-pics')"
   ]
  },
  {
   "cell_type": "markdown",
   "id": "06886688",
   "metadata": {},
   "source": [
    "https://min.io/docs/minio/linux/developers/python/API.html"
   ]
  },
  {
   "cell_type": "code",
   "execution_count": null,
   "id": "d1e0a406",
   "metadata": {},
   "outputs": [],
   "source": []
  }
 ],
 "metadata": {
  "kernelspec": {
   "display_name": "Python 3 (ipykernel)",
   "language": "python",
   "name": "python3"
  },
  "language_info": {
   "codemirror_mode": {
    "name": "ipython",
    "version": 3
   },
   "file_extension": ".py",
   "mimetype": "text/x-python",
   "name": "python",
   "nbconvert_exporter": "python",
   "pygments_lexer": "ipython3",
   "version": "3.11.5"
  }
 },
 "nbformat": 4,
 "nbformat_minor": 5
}
